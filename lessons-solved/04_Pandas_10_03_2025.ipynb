{
  "cells": [
    {
      "cell_type": "markdown",
      "metadata": {
        "id": "view-in-github",
        "colab_type": "text"
      },
      "source": [
        "<a href=\"https://colab.research.google.com/github/akanshamehta331/BME3053C-Fall-2025/blob/main/lessons-solved/04_Pandas_10_03_2025.ipynb\" target=\"_parent\"><img src=\"https://colab.research.google.com/assets/colab-badge.svg\" alt=\"Open In Colab\"/></a>"
      ]
    },
    {
      "cell_type": "markdown",
      "id": "Ia9HvfV2wEXQ",
      "metadata": {
        "id": "Ia9HvfV2wEXQ"
      },
      "source": [
        "#BME3053C - Computer Applications for BME\n",
        "\n",
        "<br/>\n",
        "\n",
        "<h1 align=\"center\">Pandas</h1>\n",
        "\n",
        "---\n",
        "\n",
        "<center><h2>Lesson 04</h2></center>\n",
        "\n",
        "<br/>\n",
        "\n",
        "<center><img src='https://github.com/snsie/aicc24/blob/main/graphics/pandas_logo.png?raw=1' alt='The Pandas logo' align='center' width=200></center>\n",
        "\n",
        "<br/>\n",
        "\n",
        "### Original Lesson Link: [![Open In Colab](https://colab.research.google.com/assets/colab-badge.svg)](https://colab.research.google.com/github/uf-bme/BME3053C-Fall-2025/blob/main/lessons/04_Pandas.ipynb)\n"
      ]
    },
    {
      "cell_type": "markdown",
      "id": "99857f15",
      "metadata": {
        "id": "99857f15"
      },
      "source": [
        "Pandas is built on top of the **NumPy** library, which in practice means that most of the methods defined for NumPy Arrays apply to *pandas* Series/DataFrames.\n",
        "\n",
        "### **What makes Pandas so attractive?**\n",
        "1. Powerful and efficient interface to access and manipulate individual records.\n",
        "2. Proper handling of missing values.\n",
        "3. Relational database-style operations between DataFrames."
      ]
    },
    {
      "cell_type": "markdown",
      "id": "0b3af23e",
      "metadata": {
        "id": "0b3af23e"
      },
      "source": [
        "#Importing [Pandas](https://pandas.pydata.org/docs/user_guide/index.html)\n",
        "\n",
        "* Pandas is commonly imported as shown below:\n",
        "\n",
        "```\n",
        "import pandas as pd\n",
        "```"
      ]
    },
    {
      "cell_type": "code",
      "execution_count": null,
      "id": "0e56bf5f",
      "metadata": {
        "id": "0e56bf5f"
      },
      "outputs": [],
      "source": [
        "#import pandas below\n",
        "import pandas as pd"
      ]
    },
    {
      "cell_type": "markdown",
      "id": "55746954",
      "metadata": {
        "id": "55746954"
      },
      "source": [
        "# Creating a [Series](https://pandas.pydata.org/docs/reference/series.html)\n",
        "* **1D Data Structure:** A Pandas Series is a one-dimensional labeled array that can hold any data type (integers, floats, strings, etc.). It is similar to a column in a DataFrame or a single column in a table.\n",
        "\n",
        "* **Indexing:** Each element in a Series has a corresponding label (index), making data retrieval easy and fast. By default, the index is numeric, but you can assign custom labels.\n",
        "\n",
        "* **Missing Data Handling:** Series natively handles missing or NaN (Not a Number) values, which is common in real-world data. Pandas offers various functions to handle or fill these missing values effectively.\n"
      ]
    },
    {
      "cell_type": "code",
      "execution_count": null,
      "id": "c75cc46f",
      "metadata": {
        "colab": {
          "base_uri": "https://localhost:8080/"
        },
        "id": "c75cc46f",
        "outputId": "4702bb9f-defd-46c9-c4a2-968306b1a0a7"
      },
      "outputs": [
        {
          "name": "stdout",
          "output_type": "stream",
          "text": [
            "0    high\n",
            "1     low\n",
            "2    high\n",
            "3    high\n",
            "4     low\n",
            "5     low\n",
            "dtype: object\n"
          ]
        }
      ],
      "source": [
        "spo2 = [88, 99, 88, 85, 100, 98]\n",
        "risk = ['high', 'low', 'high', 'high', 'low', 'low']\n",
        "\n",
        "# Creating a series\n",
        "spo2_series = pd.Series(spo2)\n",
        "risk_series = pd.Series(risk)\n",
        "print(risk_series)"
      ]
    },
    {
      "cell_type": "markdown",
      "id": "0f5M4r6Xg6RQ",
      "metadata": {
        "id": "0f5M4r6Xg6RQ"
      },
      "source": [
        "##Mathematical Operations\n",
        "\n",
        "* **Element-wise Addition:** You can add two Series together, and the operation will be performed element by element, based on the index (e.g., series1 + series2).\n",
        "\n",
        "* **Element-wise Subtraction:** Similarly, you can subtract one Series from another (e.g., series1 - series2).\n",
        "\n",
        "* **Scalar Operations:** You can perform operations between a Series and a scalar value, such as adding a constant to each element (e.g., series + 5) or multiplying all elements by a constant (e.g., series * 10).\n",
        "\n",
        "* **Cumulative Operations:** Pandas supports cumulative operations like cumulative sum (series.cumsum()), cumulative product (series.cumprod()), or cumulative minimum/maximum (series.cummin(), series.cummax()).\n",
        "\n",
        "* **Statistical Functions:** You can apply statistical functions like mean (series.mean()), median (series.median()), standard deviation ([`series.std()`](https://pandas.pydata.org/docs/reference/api/pandas.Series.std.html)), or sum [`series.sum()`](https://pandas.pydata.org/docs/reference/api/pandas.Series.sum.html) directly to a Series."
      ]
    },
    {
      "cell_type": "markdown",
      "id": "82ae812e",
      "metadata": {
        "id": "82ae812e"
      },
      "source": [
        "# Pandas [DataFrames](https://pandas.pydata.org/docs/reference/api/pandas.DataFrame.html)\n",
        "\n",
        "* One of the most useful data structures for managing data in Python\n",
        "* Allow fast, flexible, and efficient data manipulation\n",
        "* Are the natural data structure for **tabular** data\n",
        "* Are two-dimensional, containing both **rows** and **columns**\n",
        "* Consist of one or more **Series**\n"
      ]
    },
    {
      "cell_type": "markdown",
      "id": "49f9f24a",
      "metadata": {
        "id": "49f9f24a"
      },
      "source": [
        "Let's create a small DataFrame from our very basic sample data."
      ]
    },
    {
      "cell_type": "code",
      "execution_count": null,
      "id": "094f5a0a",
      "metadata": {
        "id": "094f5a0a",
        "outputId": "ca656e95-274b-454e-b525-b87b042fcefd"
      },
      "outputs": [
        {
          "data": {
            "text/html": [
              "<div>\n",
              "<style scoped>\n",
              "    .dataframe tbody tr th:only-of-type {\n",
              "        vertical-align: middle;\n",
              "    }\n",
              "\n",
              "    .dataframe tbody tr th {\n",
              "        vertical-align: top;\n",
              "    }\n",
              "\n",
              "    .dataframe thead th {\n",
              "        text-align: right;\n",
              "    }\n",
              "</style>\n",
              "<table border=\"1\" class=\"dataframe\">\n",
              "  <thead>\n",
              "    <tr style=\"text-align: right;\">\n",
              "      <th></th>\n",
              "      <th>spo2</th>\n",
              "      <th>risk</th>\n",
              "    </tr>\n",
              "  </thead>\n",
              "  <tbody>\n",
              "    <tr>\n",
              "      <th>0</th>\n",
              "      <td>88</td>\n",
              "      <td>high</td>\n",
              "    </tr>\n",
              "    <tr>\n",
              "      <th>1</th>\n",
              "      <td>99</td>\n",
              "      <td>low</td>\n",
              "    </tr>\n",
              "    <tr>\n",
              "      <th>2</th>\n",
              "      <td>88</td>\n",
              "      <td>high</td>\n",
              "    </tr>\n",
              "    <tr>\n",
              "      <th>3</th>\n",
              "      <td>85</td>\n",
              "      <td>high</td>\n",
              "    </tr>\n",
              "    <tr>\n",
              "      <th>4</th>\n",
              "      <td>100</td>\n",
              "      <td>low</td>\n",
              "    </tr>\n",
              "    <tr>\n",
              "      <th>5</th>\n",
              "      <td>98</td>\n",
              "      <td>low</td>\n",
              "    </tr>\n",
              "  </tbody>\n",
              "</table>\n",
              "</div>"
            ],
            "text/plain": [
              "   spo2  risk\n",
              "0    88  high\n",
              "1    99   low\n",
              "2    88  high\n",
              "3    85  high\n",
              "4   100   low\n",
              "5    98   low"
            ]
          },
          "execution_count": 5,
          "metadata": {},
          "output_type": "execute_result"
        }
      ],
      "source": [
        "df = pd.DataFrame({'spo2': spo2, 'risk': risk}) # Create the DataFrame\n",
        "df # View the DataFrame"
      ]
    },
    {
      "cell_type": "markdown",
      "id": "30b3a34a",
      "metadata": {
        "id": "30b3a34a"
      },
      "source": [
        "Creating a larger DataFrame using random integers generated using numpy data.\n",
        "\n",
        "* When viewing a large DataFrame in a Jupyter notebook, sometimes the data will be truncated as above."
      ]
    },
    {
      "cell_type": "code",
      "execution_count": null,
      "id": "1f9d2f08",
      "metadata": {
        "colab": {
          "base_uri": "https://localhost:8080/",
          "height": 143
        },
        "id": "1f9d2f08",
        "outputId": "19429c60-6869-44c7-b761-f2fecd589310"
      },
      "outputs": [
        {
          "data": {
            "text/html": [
              "<div>\n",
              "<style scoped>\n",
              "    .dataframe tbody tr th:only-of-type {\n",
              "        vertical-align: middle;\n",
              "    }\n",
              "\n",
              "    .dataframe tbody tr th {\n",
              "        vertical-align: top;\n",
              "    }\n",
              "\n",
              "    .dataframe thead th {\n",
              "        text-align: right;\n",
              "    }\n",
              "</style>\n",
              "<table border=\"1\" class=\"dataframe\">\n",
              "  <thead>\n",
              "    <tr style=\"text-align: right;\">\n",
              "      <th></th>\n",
              "      <th>columnA</th>\n",
              "      <th>columnB</th>\n",
              "      <th>columnC</th>\n",
              "      <th>columnD</th>\n",
              "    </tr>\n",
              "  </thead>\n",
              "  <tbody>\n",
              "    <tr>\n",
              "      <th>0</th>\n",
              "      <td>6</td>\n",
              "      <td>5</td>\n",
              "      <td>4</td>\n",
              "      <td>8</td>\n",
              "    </tr>\n",
              "    <tr>\n",
              "      <th>1</th>\n",
              "      <td>8</td>\n",
              "      <td>2</td>\n",
              "      <td>6</td>\n",
              "      <td>1</td>\n",
              "    </tr>\n",
              "    <tr>\n",
              "      <th>2</th>\n",
              "      <td>5</td>\n",
              "      <td>7</td>\n",
              "      <td>7</td>\n",
              "      <td>6</td>\n",
              "    </tr>\n",
              "    <tr>\n",
              "      <th>3</th>\n",
              "      <td>4</td>\n",
              "      <td>6</td>\n",
              "      <td>1</td>\n",
              "      <td>3</td>\n",
              "    </tr>\n",
              "    <tr>\n",
              "      <th>4</th>\n",
              "      <td>4</td>\n",
              "      <td>7</td>\n",
              "      <td>7</td>\n",
              "      <td>2</td>\n",
              "    </tr>\n",
              "    <tr>\n",
              "      <th>...</th>\n",
              "      <td>...</td>\n",
              "      <td>...</td>\n",
              "      <td>...</td>\n",
              "      <td>...</td>\n",
              "    </tr>\n",
              "    <tr>\n",
              "      <th>495</th>\n",
              "      <td>4</td>\n",
              "      <td>8</td>\n",
              "      <td>8</td>\n",
              "      <td>8</td>\n",
              "    </tr>\n",
              "    <tr>\n",
              "      <th>496</th>\n",
              "      <td>6</td>\n",
              "      <td>9</td>\n",
              "      <td>5</td>\n",
              "      <td>5</td>\n",
              "    </tr>\n",
              "    <tr>\n",
              "      <th>497</th>\n",
              "      <td>9</td>\n",
              "      <td>9</td>\n",
              "      <td>5</td>\n",
              "      <td>1</td>\n",
              "    </tr>\n",
              "    <tr>\n",
              "      <th>498</th>\n",
              "      <td>6</td>\n",
              "      <td>7</td>\n",
              "      <td>1</td>\n",
              "      <td>7</td>\n",
              "    </tr>\n",
              "    <tr>\n",
              "      <th>499</th>\n",
              "      <td>9</td>\n",
              "      <td>6</td>\n",
              "      <td>6</td>\n",
              "      <td>9</td>\n",
              "    </tr>\n",
              "  </tbody>\n",
              "</table>\n",
              "<p>500 rows × 4 columns</p>\n",
              "</div>"
            ],
            "text/plain": [
              "     columnA  columnB  columnC  columnD\n",
              "0          6        5        4        8\n",
              "1          8        2        6        1\n",
              "2          5        7        7        6\n",
              "3          4        6        1        3\n",
              "4          4        7        7        2\n",
              "..       ...      ...      ...      ...\n",
              "495        4        8        8        8\n",
              "496        6        9        5        5\n",
              "497        9        9        5        1\n",
              "498        6        7        1        7\n",
              "499        9        6        6        9\n",
              "\n",
              "[500 rows x 4 columns]"
            ]
          },
          "execution_count": 6,
          "metadata": {},
          "output_type": "execute_result"
        }
      ],
      "source": [
        "import numpy as np\n",
        "\n",
        "random_data = np.random.randint(1,10, size=2000).reshape(500, 4)\n",
        "\n",
        "#example column names\n",
        "column_names = ['columnA', 'columnB', 'columnC', 'columnD']\n",
        "\n",
        "# Create the DataFrame from the random data we generated.\n",
        "# Since the input matrix has 500 rows and 4 columns, the DataFrame will have 500 rows and 4 columns\n",
        "df = pd.DataFrame(data=random_data, columns=column_names)\n",
        "df # View the dataframe"
      ]
    },
    {
      "cell_type": "markdown",
      "id": "9e00c7d4",
      "metadata": {
        "id": "9e00c7d4"
      },
      "source": [
        "> **📌 Note:** When viewing a large DataFrame in a Jupyter notebook, sometimes the data will be truncated as above."
      ]
    },
    {
      "cell_type": "markdown",
      "id": "51a7d5d0",
      "metadata": {
        "id": "51a7d5d0"
      },
      "source": [
        "### Reading Excel Data\n",
        "\n",
        "* Instead of creating a DataFrame from scratch, data is usually loaded from an existing data file. The most common file format for storing datasets is the **comma-separated value** `(.csv)` file.\n",
        "  * The [`read_csv()`](https://pandas.pydata.org/docs/reference/api/pandas.read_csv.html#pandas-read-csv) can be used for this task.  \n",
        "  * The `filepath_or_buffer` argument can be a local filename, or a remote URL of a file stored on the web.\n",
        "\n",
        "\n",
        "\n",
        "The cell below loads sample patient electronic health record (EHR) data."
      ]
    },
    {
      "cell_type": "code",
      "execution_count": null,
      "id": "18a17ef6",
      "metadata": {
        "colab": {
          "base_uri": "https://localhost:8080/",
          "height": 423
        },
        "id": "18a17ef6",
        "outputId": "21bf292f-a058-4123-b16c-e63ab780236e"
      },
      "outputs": [
        {
          "data": {
            "application/vnd.google.colaboratory.intrinsic+json": {
              "summary": "{\n  \"name\": \"temps_df\",\n  \"rows\": 2000,\n  \"fields\": [\n    {\n      \"column\": \"patient_id\",\n      \"properties\": {\n        \"dtype\": \"number\",\n        \"std\": 289,\n        \"min\": 1,\n        \"max\": 999,\n        \"num_unique_values\": 878,\n        \"samples\": [\n          381,\n          285,\n          899\n        ],\n        \"semantic_type\": \"\",\n        \"description\": \"\"\n      }\n    },\n    {\n      \"column\": \"time\",\n      \"properties\": {\n        \"dtype\": \"object\",\n        \"num_unique_values\": 2000,\n        \"samples\": [\n          \"1978-10-14 22:32:22\",\n          \"2003-11-09 23:09:02\",\n          \"2044-09-25 11:59:49\"\n        ],\n        \"semantic_type\": \"\",\n        \"description\": \"\"\n      }\n    },\n    {\n      \"column\": \"temp_source\",\n      \"properties\": {\n        \"dtype\": \"category\",\n        \"num_unique_values\": 9,\n        \"samples\": [\n          \"Bladder probe\",\n          \"Oral\",\n          \"7\"\n        ],\n        \"semantic_type\": \"\",\n        \"description\": \"\"\n      }\n    },\n    {\n      \"column\": \"temp_value\",\n      \"properties\": {\n        \"dtype\": \"number\",\n        \"std\": 1.3767754774681595,\n        \"min\": 89.5,\n        \"max\": 103.3,\n        \"num_unique_values\": 90,\n        \"samples\": [\n          99.7,\n          95.0,\n          93.6\n        ],\n        \"semantic_type\": \"\",\n        \"description\": \"\"\n      }\n    },\n    {\n      \"column\": \"temp_unit\",\n      \"properties\": {\n        \"dtype\": \"category\",\n        \"num_unique_values\": 1,\n        \"samples\": [\n          \"Farenheit\"\n        ],\n        \"semantic_type\": \"\",\n        \"description\": \"\"\n      }\n    }\n  ]\n}",
              "type": "dataframe",
              "variable_name": "temps_df"
            },
            "text/html": [
              "\n",
              "  <div id=\"df-0550e25b-b206-4413-a063-423b3cd95e8d\" class=\"colab-df-container\">\n",
              "    <div>\n",
              "<style scoped>\n",
              "    .dataframe tbody tr th:only-of-type {\n",
              "        vertical-align: middle;\n",
              "    }\n",
              "\n",
              "    .dataframe tbody tr th {\n",
              "        vertical-align: top;\n",
              "    }\n",
              "\n",
              "    .dataframe thead th {\n",
              "        text-align: right;\n",
              "    }\n",
              "</style>\n",
              "<table border=\"1\" class=\"dataframe\">\n",
              "  <thead>\n",
              "    <tr style=\"text-align: right;\">\n",
              "      <th></th>\n",
              "      <th>patient_id</th>\n",
              "      <th>time</th>\n",
              "      <th>temp_source</th>\n",
              "      <th>temp_value</th>\n",
              "      <th>temp_unit</th>\n",
              "    </tr>\n",
              "  </thead>\n",
              "  <tbody>\n",
              "    <tr>\n",
              "      <th>0</th>\n",
              "      <td>1</td>\n",
              "      <td>1984-06-18 17:58:02</td>\n",
              "      <td>Core</td>\n",
              "      <td>97.3</td>\n",
              "      <td>Farenheit</td>\n",
              "    </tr>\n",
              "    <tr>\n",
              "      <th>1</th>\n",
              "      <td>2</td>\n",
              "      <td>1965-02-16 12:34:29</td>\n",
              "      <td>Oral</td>\n",
              "      <td>96.7</td>\n",
              "      <td>Farenheit</td>\n",
              "    </tr>\n",
              "    <tr>\n",
              "      <th>2</th>\n",
              "      <td>2</td>\n",
              "      <td>1999-09-28 01:35:52</td>\n",
              "      <td>Tympanic</td>\n",
              "      <td>98.2</td>\n",
              "      <td>Farenheit</td>\n",
              "    </tr>\n",
              "    <tr>\n",
              "      <th>3</th>\n",
              "      <td>2</td>\n",
              "      <td>2071-02-23 10:36:34</td>\n",
              "      <td>Temporal</td>\n",
              "      <td>96.5</td>\n",
              "      <td>Farenheit</td>\n",
              "    </tr>\n",
              "    <tr>\n",
              "      <th>4</th>\n",
              "      <td>3</td>\n",
              "      <td>1988-05-10 01:38:51</td>\n",
              "      <td>Oral</td>\n",
              "      <td>97.2</td>\n",
              "      <td>Farenheit</td>\n",
              "    </tr>\n",
              "    <tr>\n",
              "      <th>...</th>\n",
              "      <td>...</td>\n",
              "      <td>...</td>\n",
              "      <td>...</td>\n",
              "      <td>...</td>\n",
              "      <td>...</td>\n",
              "    </tr>\n",
              "    <tr>\n",
              "      <th>1995</th>\n",
              "      <td>998</td>\n",
              "      <td>1985-05-14 00:14:54</td>\n",
              "      <td>Tympanic</td>\n",
              "      <td>95.5</td>\n",
              "      <td>Farenheit</td>\n",
              "    </tr>\n",
              "    <tr>\n",
              "      <th>1996</th>\n",
              "      <td>998</td>\n",
              "      <td>2036-03-15 06:59:01</td>\n",
              "      <td>Oral</td>\n",
              "      <td>97.7</td>\n",
              "      <td>Farenheit</td>\n",
              "    </tr>\n",
              "    <tr>\n",
              "      <th>1997</th>\n",
              "      <td>998</td>\n",
              "      <td>2074-03-17 21:21:09</td>\n",
              "      <td>Oral</td>\n",
              "      <td>98.1</td>\n",
              "      <td>Farenheit</td>\n",
              "    </tr>\n",
              "    <tr>\n",
              "      <th>1998</th>\n",
              "      <td>999</td>\n",
              "      <td>2017-02-03 01:23:52</td>\n",
              "      <td>Oral</td>\n",
              "      <td>97.4</td>\n",
              "      <td>Farenheit</td>\n",
              "    </tr>\n",
              "    <tr>\n",
              "      <th>1999</th>\n",
              "      <td>999</td>\n",
              "      <td>2039-01-21 02:31:01</td>\n",
              "      <td>Temporal</td>\n",
              "      <td>98.7</td>\n",
              "      <td>Farenheit</td>\n",
              "    </tr>\n",
              "  </tbody>\n",
              "</table>\n",
              "<p>2000 rows × 5 columns</p>\n",
              "</div>\n",
              "    <div class=\"colab-df-buttons\">\n",
              "\n",
              "  <div class=\"colab-df-container\">\n",
              "    <button class=\"colab-df-convert\" onclick=\"convertToInteractive('df-0550e25b-b206-4413-a063-423b3cd95e8d')\"\n",
              "            title=\"Convert this dataframe to an interactive table.\"\n",
              "            style=\"display:none;\">\n",
              "\n",
              "  <svg xmlns=\"http://www.w3.org/2000/svg\" height=\"24px\" viewBox=\"0 -960 960 960\">\n",
              "    <path d=\"M120-120v-720h720v720H120Zm60-500h600v-160H180v160Zm220 220h160v-160H400v160Zm0 220h160v-160H400v160ZM180-400h160v-160H180v160Zm440 0h160v-160H620v160ZM180-180h160v-160H180v160Zm440 0h160v-160H620v160Z\"/>\n",
              "  </svg>\n",
              "    </button>\n",
              "\n",
              "  <style>\n",
              "    .colab-df-container {\n",
              "      display:flex;\n",
              "      gap: 12px;\n",
              "    }\n",
              "\n",
              "    .colab-df-convert {\n",
              "      background-color: #E8F0FE;\n",
              "      border: none;\n",
              "      border-radius: 50%;\n",
              "      cursor: pointer;\n",
              "      display: none;\n",
              "      fill: #1967D2;\n",
              "      height: 32px;\n",
              "      padding: 0 0 0 0;\n",
              "      width: 32px;\n",
              "    }\n",
              "\n",
              "    .colab-df-convert:hover {\n",
              "      background-color: #E2EBFA;\n",
              "      box-shadow: 0px 1px 2px rgba(60, 64, 67, 0.3), 0px 1px 3px 1px rgba(60, 64, 67, 0.15);\n",
              "      fill: #174EA6;\n",
              "    }\n",
              "\n",
              "    .colab-df-buttons div {\n",
              "      margin-bottom: 4px;\n",
              "    }\n",
              "\n",
              "    [theme=dark] .colab-df-convert {\n",
              "      background-color: #3B4455;\n",
              "      fill: #D2E3FC;\n",
              "    }\n",
              "\n",
              "    [theme=dark] .colab-df-convert:hover {\n",
              "      background-color: #434B5C;\n",
              "      box-shadow: 0px 1px 3px 1px rgba(0, 0, 0, 0.15);\n",
              "      filter: drop-shadow(0px 1px 2px rgba(0, 0, 0, 0.3));\n",
              "      fill: #FFFFFF;\n",
              "    }\n",
              "  </style>\n",
              "\n",
              "    <script>\n",
              "      const buttonEl =\n",
              "        document.querySelector('#df-0550e25b-b206-4413-a063-423b3cd95e8d button.colab-df-convert');\n",
              "      buttonEl.style.display =\n",
              "        google.colab.kernel.accessAllowed ? 'block' : 'none';\n",
              "\n",
              "      async function convertToInteractive(key) {\n",
              "        const element = document.querySelector('#df-0550e25b-b206-4413-a063-423b3cd95e8d');\n",
              "        const dataTable =\n",
              "          await google.colab.kernel.invokeFunction('convertToInteractive',\n",
              "                                                    [key], {});\n",
              "        if (!dataTable) return;\n",
              "\n",
              "        const docLinkHtml = 'Like what you see? Visit the ' +\n",
              "          '<a target=\"_blank\" href=https://colab.research.google.com/notebooks/data_table.ipynb>data table notebook</a>'\n",
              "          + ' to learn more about interactive tables.';\n",
              "        element.innerHTML = '';\n",
              "        dataTable['output_type'] = 'display_data';\n",
              "        await google.colab.output.renderOutput(dataTable, element);\n",
              "        const docLink = document.createElement('div');\n",
              "        docLink.innerHTML = docLinkHtml;\n",
              "        element.appendChild(docLink);\n",
              "      }\n",
              "    </script>\n",
              "  </div>\n",
              "\n",
              "\n",
              "<div id=\"df-216bf827-95a4-481e-b1e5-b303fb9f3880\">\n",
              "  <button class=\"colab-df-quickchart\" onclick=\"quickchart('df-216bf827-95a4-481e-b1e5-b303fb9f3880')\"\n",
              "            title=\"Suggest charts\"\n",
              "            style=\"display:none;\">\n",
              "\n",
              "<svg xmlns=\"http://www.w3.org/2000/svg\" height=\"24px\"viewBox=\"0 0 24 24\"\n",
              "     width=\"24px\">\n",
              "    <g>\n",
              "        <path d=\"M19 3H5c-1.1 0-2 .9-2 2v14c0 1.1.9 2 2 2h14c1.1 0 2-.9 2-2V5c0-1.1-.9-2-2-2zM9 17H7v-7h2v7zm4 0h-2V7h2v10zm4 0h-2v-4h2v4z\"/>\n",
              "    </g>\n",
              "</svg>\n",
              "  </button>\n",
              "\n",
              "<style>\n",
              "  .colab-df-quickchart {\n",
              "      --bg-color: #E8F0FE;\n",
              "      --fill-color: #1967D2;\n",
              "      --hover-bg-color: #E2EBFA;\n",
              "      --hover-fill-color: #174EA6;\n",
              "      --disabled-fill-color: #AAA;\n",
              "      --disabled-bg-color: #DDD;\n",
              "  }\n",
              "\n",
              "  [theme=dark] .colab-df-quickchart {\n",
              "      --bg-color: #3B4455;\n",
              "      --fill-color: #D2E3FC;\n",
              "      --hover-bg-color: #434B5C;\n",
              "      --hover-fill-color: #FFFFFF;\n",
              "      --disabled-bg-color: #3B4455;\n",
              "      --disabled-fill-color: #666;\n",
              "  }\n",
              "\n",
              "  .colab-df-quickchart {\n",
              "    background-color: var(--bg-color);\n",
              "    border: none;\n",
              "    border-radius: 50%;\n",
              "    cursor: pointer;\n",
              "    display: none;\n",
              "    fill: var(--fill-color);\n",
              "    height: 32px;\n",
              "    padding: 0;\n",
              "    width: 32px;\n",
              "  }\n",
              "\n",
              "  .colab-df-quickchart:hover {\n",
              "    background-color: var(--hover-bg-color);\n",
              "    box-shadow: 0 1px 2px rgba(60, 64, 67, 0.3), 0 1px 3px 1px rgba(60, 64, 67, 0.15);\n",
              "    fill: var(--button-hover-fill-color);\n",
              "  }\n",
              "\n",
              "  .colab-df-quickchart-complete:disabled,\n",
              "  .colab-df-quickchart-complete:disabled:hover {\n",
              "    background-color: var(--disabled-bg-color);\n",
              "    fill: var(--disabled-fill-color);\n",
              "    box-shadow: none;\n",
              "  }\n",
              "\n",
              "  .colab-df-spinner {\n",
              "    border: 2px solid var(--fill-color);\n",
              "    border-color: transparent;\n",
              "    border-bottom-color: var(--fill-color);\n",
              "    animation:\n",
              "      spin 1s steps(1) infinite;\n",
              "  }\n",
              "\n",
              "  @keyframes spin {\n",
              "    0% {\n",
              "      border-color: transparent;\n",
              "      border-bottom-color: var(--fill-color);\n",
              "      border-left-color: var(--fill-color);\n",
              "    }\n",
              "    20% {\n",
              "      border-color: transparent;\n",
              "      border-left-color: var(--fill-color);\n",
              "      border-top-color: var(--fill-color);\n",
              "    }\n",
              "    30% {\n",
              "      border-color: transparent;\n",
              "      border-left-color: var(--fill-color);\n",
              "      border-top-color: var(--fill-color);\n",
              "      border-right-color: var(--fill-color);\n",
              "    }\n",
              "    40% {\n",
              "      border-color: transparent;\n",
              "      border-right-color: var(--fill-color);\n",
              "      border-top-color: var(--fill-color);\n",
              "    }\n",
              "    60% {\n",
              "      border-color: transparent;\n",
              "      border-right-color: var(--fill-color);\n",
              "    }\n",
              "    80% {\n",
              "      border-color: transparent;\n",
              "      border-right-color: var(--fill-color);\n",
              "      border-bottom-color: var(--fill-color);\n",
              "    }\n",
              "    90% {\n",
              "      border-color: transparent;\n",
              "      border-bottom-color: var(--fill-color);\n",
              "    }\n",
              "  }\n",
              "</style>\n",
              "\n",
              "  <script>\n",
              "    async function quickchart(key) {\n",
              "      const quickchartButtonEl =\n",
              "        document.querySelector('#' + key + ' button');\n",
              "      quickchartButtonEl.disabled = true;  // To prevent multiple clicks.\n",
              "      quickchartButtonEl.classList.add('colab-df-spinner');\n",
              "      try {\n",
              "        const charts = await google.colab.kernel.invokeFunction(\n",
              "            'suggestCharts', [key], {});\n",
              "      } catch (error) {\n",
              "        console.error('Error during call to suggestCharts:', error);\n",
              "      }\n",
              "      quickchartButtonEl.classList.remove('colab-df-spinner');\n",
              "      quickchartButtonEl.classList.add('colab-df-quickchart-complete');\n",
              "    }\n",
              "    (() => {\n",
              "      let quickchartButtonEl =\n",
              "        document.querySelector('#df-216bf827-95a4-481e-b1e5-b303fb9f3880 button');\n",
              "      quickchartButtonEl.style.display =\n",
              "        google.colab.kernel.accessAllowed ? 'block' : 'none';\n",
              "    })();\n",
              "  </script>\n",
              "</div>\n",
              "\n",
              "  <div id=\"id_9bd00ca9-23de-421f-92a6-7b96176d3b2b\">\n",
              "    <style>\n",
              "      .colab-df-generate {\n",
              "        background-color: #E8F0FE;\n",
              "        border: none;\n",
              "        border-radius: 50%;\n",
              "        cursor: pointer;\n",
              "        display: none;\n",
              "        fill: #1967D2;\n",
              "        height: 32px;\n",
              "        padding: 0 0 0 0;\n",
              "        width: 32px;\n",
              "      }\n",
              "\n",
              "      .colab-df-generate:hover {\n",
              "        background-color: #E2EBFA;\n",
              "        box-shadow: 0px 1px 2px rgba(60, 64, 67, 0.3), 0px 1px 3px 1px rgba(60, 64, 67, 0.15);\n",
              "        fill: #174EA6;\n",
              "      }\n",
              "\n",
              "      [theme=dark] .colab-df-generate {\n",
              "        background-color: #3B4455;\n",
              "        fill: #D2E3FC;\n",
              "      }\n",
              "\n",
              "      [theme=dark] .colab-df-generate:hover {\n",
              "        background-color: #434B5C;\n",
              "        box-shadow: 0px 1px 3px 1px rgba(0, 0, 0, 0.15);\n",
              "        filter: drop-shadow(0px 1px 2px rgba(0, 0, 0, 0.3));\n",
              "        fill: #FFFFFF;\n",
              "      }\n",
              "    </style>\n",
              "    <button class=\"colab-df-generate\" onclick=\"generateWithVariable('temps_df')\"\n",
              "            title=\"Generate code using this dataframe.\"\n",
              "            style=\"display:none;\">\n",
              "\n",
              "  <svg xmlns=\"http://www.w3.org/2000/svg\" height=\"24px\"viewBox=\"0 0 24 24\"\n",
              "       width=\"24px\">\n",
              "    <path d=\"M7,19H8.4L18.45,9,17,7.55,7,17.6ZM5,21V16.75L18.45,3.32a2,2,0,0,1,2.83,0l1.4,1.43a1.91,1.91,0,0,1,.58,1.4,1.91,1.91,0,0,1-.58,1.4L9.25,21ZM18.45,9,17,7.55Zm-12,3A5.31,5.31,0,0,0,4.9,8.1,5.31,5.31,0,0,0,1,6.5,5.31,5.31,0,0,0,4.9,4.9,5.31,5.31,0,0,0,6.5,1,5.31,5.31,0,0,0,8.1,4.9,5.31,5.31,0,0,0,12,6.5,5.46,5.46,0,0,0,6.5,12Z\"/>\n",
              "  </svg>\n",
              "    </button>\n",
              "    <script>\n",
              "      (() => {\n",
              "      const buttonEl =\n",
              "        document.querySelector('#id_9bd00ca9-23de-421f-92a6-7b96176d3b2b button.colab-df-generate');\n",
              "      buttonEl.style.display =\n",
              "        google.colab.kernel.accessAllowed ? 'block' : 'none';\n",
              "\n",
              "      buttonEl.onclick = () => {\n",
              "        google.colab.notebook.generateWithVariable('temps_df');\n",
              "      }\n",
              "      })();\n",
              "    </script>\n",
              "  </div>\n",
              "\n",
              "    </div>\n",
              "  </div>\n"
            ],
            "text/plain": [
              "      patient_id                 time temp_source  temp_value  temp_unit\n",
              "0              1  1984-06-18 17:58:02        Core        97.3  Farenheit\n",
              "1              2  1965-02-16 12:34:29        Oral        96.7  Farenheit\n",
              "2              2  1999-09-28 01:35:52    Tympanic        98.2  Farenheit\n",
              "3              2  2071-02-23 10:36:34    Temporal        96.5  Farenheit\n",
              "4              3  1988-05-10 01:38:51        Oral        97.2  Farenheit\n",
              "...          ...                  ...         ...         ...        ...\n",
              "1995         998  1985-05-14 00:14:54    Tympanic        95.5  Farenheit\n",
              "1996         998  2036-03-15 06:59:01        Oral        97.7  Farenheit\n",
              "1997         998  2074-03-17 21:21:09        Oral        98.1  Farenheit\n",
              "1998         999  2017-02-03 01:23:52        Oral        97.4  Farenheit\n",
              "1999         999  2039-01-21 02:31:01    Temporal        98.7  Farenheit\n",
              "\n",
              "[2000 rows x 5 columns]"
            ]
          },
          "execution_count": 5,
          "metadata": {},
          "output_type": "execute_result"
        }
      ],
      "source": [
        "url='https://www.dropbox.com/scl/fi/6oalhztas5ox5zcna9ois/temperature.csv?rlkey=zwf8f80dqa92dep1rm8kjnx9m&dl=1'\n",
        "temps_df = pd.read_csv(url) # Create the DataFrame from the given URL\n",
        "temps_df # View the DataFrame we just created"
      ]
    },
    {
      "cell_type": "markdown",
      "id": "8e6be464",
      "metadata": {
        "id": "8e6be464"
      },
      "source": [
        "We can see that this dataset contains 2000 rows and 5 columns corresponding to patient temperature measurements from an EHR system.   \n",
        "\n",
        "Below is a more detailed description of each column:"
      ]
    },
    {
      "cell_type": "markdown",
      "id": "f0f8e7d1",
      "metadata": {
        "id": "f0f8e7d1"
      },
      "source": [
        "| Column |  Description |\n",
        "| --- | --- |\n",
        "|  patient |   unique patient identifier |\n",
        "|  time |   the date and time of temperature measurement |\n",
        "|  temp_source |   the temperature acquisition method |\n",
        "|  temp_value |   the measured temperature value |\n",
        "|  temp_unit |   the temperature measurement unit |"
      ]
    },
    {
      "cell_type": "markdown",
      "id": "47YUaLX0zc_8",
      "metadata": {
        "id": "47YUaLX0zc_8"
      },
      "source": [
        "# Viewing Parts of a Dataframe\n",
        "* DataFrames often hold a large number of rows (in many AI projects, you might be dealing with hundreds of thousands, or even millions, of samples)\n",
        "* Sometimes we just want to get a preview, or a sense of what data is being stored in our DataFrame.\n",
        "\n",
        "Let's start by viewing only some of a DataFrame's **rows**. Since pandas is so flexible, there are several ways to accomplish this. In the examples below, we will use the pandas functions `head()` and `tail()`."
      ]
    },
    {
      "cell_type": "markdown",
      "id": "e6b380d7",
      "metadata": {
        "id": "e6b380d7"
      },
      "source": [
        "#### **✏️ Exercise**\n",
        "1. Use the [`head()`](https://pandas.pydata.org/docs/reference/api/pandas.DataFrame.head.html) function to view the first 10 rows of our DataFrame."
      ]
    },
    {
      "cell_type": "code",
      "execution_count": null,
      "id": "95f5d8dd",
      "metadata": {
        "id": "95f5d8dd"
      },
      "outputs": [],
      "source": []
    },
    {
      "cell_type": "markdown",
      "id": "44f9d9ca",
      "metadata": {
        "id": "44f9d9ca"
      },
      "source": [
        "#### **✏️ Exercise**\n",
        "1. Use `tail()` to view the **last** 10 rows of our DataFrame.\n"
      ]
    },
    {
      "cell_type": "code",
      "execution_count": null,
      "id": "4535f19a",
      "metadata": {
        "id": "4535f19a"
      },
      "outputs": [],
      "source": []
    },
    {
      "cell_type": "markdown",
      "id": "n8U0PS6wQhOI",
      "metadata": {
        "id": "n8U0PS6wQhOI"
      },
      "source": [
        "##Displaying a list of columns\n",
        "\n",
        "* You can display a list of columns by calling `temps_df.columns`"
      ]
    },
    {
      "cell_type": "code",
      "execution_count": null,
      "id": "roPRIXfkQr-O",
      "metadata": {
        "colab": {
          "base_uri": "https://localhost:8080/",
          "height": 141
        },
        "id": "roPRIXfkQr-O",
        "outputId": "1699cebf-86d2-44d2-97ba-6c049d091153"
      },
      "outputs": [
        {
          "output_type": "error",
          "ename": "NameError",
          "evalue": "name 'temps_df' is not defined",
          "traceback": [
            "\u001b[0;31m---------------------------------------------------------------------------\u001b[0m",
            "\u001b[0;31mNameError\u001b[0m                                 Traceback (most recent call last)",
            "\u001b[0;32m/tmp/ipython-input-1837623996.py\u001b[0m in \u001b[0;36m<cell line: 0>\u001b[0;34m()\u001b[0m\n\u001b[0;32m----> 1\u001b[0;31m \u001b[0mprint\u001b[0m\u001b[0;34m(\u001b[0m\u001b[0mtemps_df\u001b[0m\u001b[0;34m.\u001b[0m\u001b[0mcolumns\u001b[0m\u001b[0;34m)\u001b[0m\u001b[0;34m\u001b[0m\u001b[0;34m\u001b[0m\u001b[0m\n\u001b[0m",
            "\u001b[0;31mNameError\u001b[0m: name 'temps_df' is not defined"
          ]
        }
      ],
      "source": [
        "print(temps_df.columns)"
      ]
    },
    {
      "cell_type": "markdown",
      "id": "b9e7fe38",
      "metadata": {
        "id": "b9e7fe38"
      },
      "source": [
        "## Viewing individual columns\n",
        "\n",
        "* For a given DataFrame `df` and desired column `col`, one way to view a single column is to call `df['col']`.\n",
        "  * The column name `col` must be in quotes.\n",
        "\n"
      ]
    },
    {
      "cell_type": "markdown",
      "id": "ookwDyRrmI_v",
      "metadata": {
        "id": "ookwDyRrmI_v"
      },
      "source": [
        "#### **✏️ Exercise**\n",
        "1. Use the above method to view the `temp_value` column of our DataFrame."
      ]
    },
    {
      "cell_type": "code",
      "execution_count": null,
      "id": "cfad1032",
      "metadata": {
        "id": "cfad1032",
        "colab": {
          "base_uri": "https://localhost:8080/",
          "height": 141
        },
        "outputId": "06d1fac0-a9bd-41d5-d8a5-5c9d2aed7e3c"
      },
      "outputs": [
        {
          "output_type": "error",
          "ename": "NameError",
          "evalue": "name 'temps_df' is not defined",
          "traceback": [
            "\u001b[0;31m---------------------------------------------------------------------------\u001b[0m",
            "\u001b[0;31mNameError\u001b[0m                                 Traceback (most recent call last)",
            "\u001b[0;32m/tmp/ipython-input-453244245.py\u001b[0m in \u001b[0;36m<cell line: 0>\u001b[0;34m()\u001b[0m\n\u001b[0;32m----> 1\u001b[0;31m \u001b[0mtemps_df\u001b[0m\u001b[0;34m[\u001b[0m\u001b[0;34m[\u001b[0m\u001b[0;34m'temp_value'\u001b[0m\u001b[0;34m,\u001b[0m\u001b[0;34m'temp_unit'\u001b[0m\u001b[0;34m]\u001b[0m\u001b[0;34m]\u001b[0m\u001b[0;34m.\u001b[0m\u001b[0mhead\u001b[0m\u001b[0;34m(\u001b[0m\u001b[0;36m2\u001b[0m\u001b[0;34m)\u001b[0m\u001b[0;34m\u001b[0m\u001b[0;34m\u001b[0m\u001b[0m\n\u001b[0m",
            "\u001b[0;31mNameError\u001b[0m: name 'temps_df' is not defined"
          ]
        }
      ],
      "source": [
        "temps_df[['temp_value','temp_unit']].head(2)"
      ]
    },
    {
      "cell_type": "markdown",
      "id": "68ec6a34",
      "metadata": {
        "id": "68ec6a34"
      },
      "source": [
        "We can also adapt this method to view multiple columns. Instead of passing in a single string column name `'C'`, instead we will pass in a **list** of string column names, e.g. `['A', 'B', 'C']`. For example: `df[['A', 'B', 'C']]` (**Important:** Notice the double brackets!)"
      ]
    },
    {
      "cell_type": "markdown",
      "id": "8sEHDrJAUMS1",
      "metadata": {
        "id": "8sEHDrJAUMS1"
      },
      "source": [
        "#### **✏️ Exercise**\n",
        "\n",
        "1. Use the above method to view the `temp_value` **and** `temp_unit` columns of our DataFrame."
      ]
    },
    {
      "cell_type": "code",
      "execution_count": null,
      "id": "f15bb025",
      "metadata": {
        "id": "f15bb025"
      },
      "outputs": [],
      "source": []
    },
    {
      "cell_type": "markdown",
      "id": "a14ef0b9",
      "metadata": {
        "id": "a14ef0b9"
      },
      "source": [
        "#### **✏️Exercise**\n",
        "\n",
        "1. Display the top two rows of a dataframe that only includes the `time` and `temp_value` columns."
      ]
    },
    {
      "cell_type": "code",
      "execution_count": null,
      "id": "e0804fcf",
      "metadata": {
        "id": "e0804fcf",
        "outputId": "aaf2b363-b156-493c-f614-eed603adadc9"
      },
      "outputs": [
        {
          "data": {
            "text/html": [
              "<div>\n",
              "<style scoped>\n",
              "    .dataframe tbody tr th:only-of-type {\n",
              "        vertical-align: middle;\n",
              "    }\n",
              "\n",
              "    .dataframe tbody tr th {\n",
              "        vertical-align: top;\n",
              "    }\n",
              "\n",
              "    .dataframe thead th {\n",
              "        text-align: right;\n",
              "    }\n",
              "</style>\n",
              "<table border=\"1\" class=\"dataframe\">\n",
              "  <thead>\n",
              "    <tr style=\"text-align: right;\">\n",
              "      <th></th>\n",
              "      <th>time</th>\n",
              "      <th>temp_value</th>\n",
              "    </tr>\n",
              "  </thead>\n",
              "  <tbody>\n",
              "    <tr>\n",
              "      <th>0</th>\n",
              "      <td>1984-06-18 17:58:02</td>\n",
              "      <td>97.3</td>\n",
              "    </tr>\n",
              "    <tr>\n",
              "      <th>1</th>\n",
              "      <td>1965-02-16 12:34:29</td>\n",
              "      <td>96.7</td>\n",
              "    </tr>\n",
              "  </tbody>\n",
              "</table>\n",
              "</div>"
            ],
            "text/plain": [
              "                  time  temp_value\n",
              "0  1984-06-18 17:58:02        97.3\n",
              "1  1965-02-16 12:34:29        96.7"
            ]
          },
          "execution_count": 15,
          "metadata": {},
          "output_type": "execute_result"
        }
      ],
      "source": []
    },
    {
      "cell_type": "markdown",
      "id": "afc5dec7",
      "metadata": {
        "id": "afc5dec7"
      },
      "source": [
        "# Creating new columns\n",
        "\n",
        "* You can create new columns in an existing DataFrame. When we define an equation as below, equation will be applied to every **row** of the DataFrame. In this way, we can create new columns from different combinations of existing columns.\n",
        "\n",
        "1. The following cell converts Fahrenheit temperature to Celsius and assigns the values to a new column called `temp_celsius`."
      ]
    },
    {
      "cell_type": "code",
      "execution_count": null,
      "id": "107af062",
      "metadata": {
        "colab": {
          "base_uri": "https://localhost:8080/",
          "height": 206
        },
        "id": "107af062",
        "outputId": "de3188a0-fc49-4c70-e8e0-1b6a9b193380"
      },
      "outputs": [
        {
          "data": {
            "text/html": [
              "<div>\n",
              "<style scoped>\n",
              "    .dataframe tbody tr th:only-of-type {\n",
              "        vertical-align: middle;\n",
              "    }\n",
              "\n",
              "    .dataframe tbody tr th {\n",
              "        vertical-align: top;\n",
              "    }\n",
              "\n",
              "    .dataframe thead th {\n",
              "        text-align: right;\n",
              "    }\n",
              "</style>\n",
              "<table border=\"1\" class=\"dataframe\">\n",
              "  <thead>\n",
              "    <tr style=\"text-align: right;\">\n",
              "      <th></th>\n",
              "      <th>patient_id</th>\n",
              "      <th>time</th>\n",
              "      <th>temp_source</th>\n",
              "      <th>temp_value</th>\n",
              "      <th>temp_unit</th>\n",
              "      <th>temp_celsius</th>\n",
              "    </tr>\n",
              "  </thead>\n",
              "  <tbody>\n",
              "    <tr>\n",
              "      <th>0</th>\n",
              "      <td>1</td>\n",
              "      <td>1984-06-18 17:58:02</td>\n",
              "      <td>Core</td>\n",
              "      <td>97.3</td>\n",
              "      <td>Farenheit</td>\n",
              "      <td>36.277778</td>\n",
              "    </tr>\n",
              "    <tr>\n",
              "      <th>1</th>\n",
              "      <td>2</td>\n",
              "      <td>1965-02-16 12:34:29</td>\n",
              "      <td>Oral</td>\n",
              "      <td>96.7</td>\n",
              "      <td>Farenheit</td>\n",
              "      <td>35.944444</td>\n",
              "    </tr>\n",
              "    <tr>\n",
              "      <th>2</th>\n",
              "      <td>2</td>\n",
              "      <td>1999-09-28 01:35:52</td>\n",
              "      <td>Tympanic</td>\n",
              "      <td>98.2</td>\n",
              "      <td>Farenheit</td>\n",
              "      <td>36.777778</td>\n",
              "    </tr>\n",
              "    <tr>\n",
              "      <th>3</th>\n",
              "      <td>2</td>\n",
              "      <td>2071-02-23 10:36:34</td>\n",
              "      <td>Temporal</td>\n",
              "      <td>96.5</td>\n",
              "      <td>Farenheit</td>\n",
              "      <td>35.833333</td>\n",
              "    </tr>\n",
              "    <tr>\n",
              "      <th>4</th>\n",
              "      <td>3</td>\n",
              "      <td>1988-05-10 01:38:51</td>\n",
              "      <td>Oral</td>\n",
              "      <td>97.2</td>\n",
              "      <td>Farenheit</td>\n",
              "      <td>36.222222</td>\n",
              "    </tr>\n",
              "  </tbody>\n",
              "</table>\n",
              "</div>"
            ],
            "text/plain": [
              "   patient_id                 time temp_source  temp_value  temp_unit  \\\n",
              "0           1  1984-06-18 17:58:02        Core        97.3  Farenheit   \n",
              "1           2  1965-02-16 12:34:29        Oral        96.7  Farenheit   \n",
              "2           2  1999-09-28 01:35:52    Tympanic        98.2  Farenheit   \n",
              "3           2  2071-02-23 10:36:34    Temporal        96.5  Farenheit   \n",
              "4           3  1988-05-10 01:38:51        Oral        97.2  Farenheit   \n",
              "\n",
              "   temp_celsius  \n",
              "0     36.277778  \n",
              "1     35.944444  \n",
              "2     36.777778  \n",
              "3     35.833333  \n",
              "4     36.222222  "
            ]
          },
          "execution_count": 16,
          "metadata": {},
          "output_type": "execute_result"
        }
      ],
      "source": [
        "temps_df['temp_celsius'] = (temps_df['temp_value'] - 32) * (5/9)\n",
        "temps_df.head()"
      ]
    },
    {
      "cell_type": "markdown",
      "id": "3ebe98a4",
      "metadata": {
        "id": "3ebe98a4"
      },
      "source": [
        "# Deleting columns\n",
        "\n",
        "We can also *delete* (also known as **drop**) columns.\n",
        "\n",
        "Let's remove the `temp_celsius` column that we previously created."
      ]
    },
    {
      "cell_type": "code",
      "execution_count": null,
      "id": "48b57eaa",
      "metadata": {
        "colab": {
          "base_uri": "https://localhost:8080/",
          "height": 206
        },
        "id": "48b57eaa",
        "outputId": "e4ff3c3c-e3a6-4499-c406-ad3e4afad251"
      },
      "outputs": [
        {
          "data": {
            "text/html": [
              "<div>\n",
              "<style scoped>\n",
              "    .dataframe tbody tr th:only-of-type {\n",
              "        vertical-align: middle;\n",
              "    }\n",
              "\n",
              "    .dataframe tbody tr th {\n",
              "        vertical-align: top;\n",
              "    }\n",
              "\n",
              "    .dataframe thead th {\n",
              "        text-align: right;\n",
              "    }\n",
              "</style>\n",
              "<table border=\"1\" class=\"dataframe\">\n",
              "  <thead>\n",
              "    <tr style=\"text-align: right;\">\n",
              "      <th></th>\n",
              "      <th>patient_id</th>\n",
              "      <th>time</th>\n",
              "      <th>temp_source</th>\n",
              "      <th>temp_value</th>\n",
              "      <th>temp_unit</th>\n",
              "      <th>temp_celsius</th>\n",
              "    </tr>\n",
              "  </thead>\n",
              "  <tbody>\n",
              "    <tr>\n",
              "      <th>0</th>\n",
              "      <td>1</td>\n",
              "      <td>1984-06-18 17:58:02</td>\n",
              "      <td>Core</td>\n",
              "      <td>97.3</td>\n",
              "      <td>Farenheit</td>\n",
              "      <td>36.277778</td>\n",
              "    </tr>\n",
              "    <tr>\n",
              "      <th>1</th>\n",
              "      <td>2</td>\n",
              "      <td>1965-02-16 12:34:29</td>\n",
              "      <td>Oral</td>\n",
              "      <td>96.7</td>\n",
              "      <td>Farenheit</td>\n",
              "      <td>35.944444</td>\n",
              "    </tr>\n",
              "    <tr>\n",
              "      <th>2</th>\n",
              "      <td>2</td>\n",
              "      <td>1999-09-28 01:35:52</td>\n",
              "      <td>Tympanic</td>\n",
              "      <td>98.2</td>\n",
              "      <td>Farenheit</td>\n",
              "      <td>36.777778</td>\n",
              "    </tr>\n",
              "    <tr>\n",
              "      <th>3</th>\n",
              "      <td>2</td>\n",
              "      <td>2071-02-23 10:36:34</td>\n",
              "      <td>Temporal</td>\n",
              "      <td>96.5</td>\n",
              "      <td>Farenheit</td>\n",
              "      <td>35.833333</td>\n",
              "    </tr>\n",
              "    <tr>\n",
              "      <th>4</th>\n",
              "      <td>3</td>\n",
              "      <td>1988-05-10 01:38:51</td>\n",
              "      <td>Oral</td>\n",
              "      <td>97.2</td>\n",
              "      <td>Farenheit</td>\n",
              "      <td>36.222222</td>\n",
              "    </tr>\n",
              "  </tbody>\n",
              "</table>\n",
              "</div>"
            ],
            "text/plain": [
              "   patient_id                 time temp_source  temp_value  temp_unit  \\\n",
              "0           1  1984-06-18 17:58:02        Core        97.3  Farenheit   \n",
              "1           2  1965-02-16 12:34:29        Oral        96.7  Farenheit   \n",
              "2           2  1999-09-28 01:35:52    Tympanic        98.2  Farenheit   \n",
              "3           2  2071-02-23 10:36:34    Temporal        96.5  Farenheit   \n",
              "4           3  1988-05-10 01:38:51        Oral        97.2  Farenheit   \n",
              "\n",
              "   temp_celsius  \n",
              "0     36.277778  \n",
              "1     35.944444  \n",
              "2     36.777778  \n",
              "3     35.833333  \n",
              "4     36.222222  "
            ]
          },
          "execution_count": 17,
          "metadata": {},
          "output_type": "execute_result"
        }
      ],
      "source": [
        "temps_df.drop(columns=['temp_celsius']) # Will this remove the column?\n",
        "temps_df.head()"
      ]
    },
    {
      "cell_type": "markdown",
      "id": "6af31be9",
      "metadata": {
        "id": "6af31be9"
      },
      "source": [
        "### **What happened?**\n",
        "\n",
        "* Unless you specify `inplace=True` or assign the dataframe back to itself (or a different variable name), **the `drop()` function does not change the original DataFrame!**\n",
        "\n",
        "* The safest approach to remove a column is to create a new DataFrame."
      ]
    },
    {
      "cell_type": "code",
      "execution_count": null,
      "id": "840718b2",
      "metadata": {
        "id": "840718b2"
      },
      "outputs": [],
      "source": [
        "temps_df_no_celsius = temps_df.drop(columns=['temp_celsius'])\n",
        "temps_df_no_celsius.head()"
      ]
    },
    {
      "cell_type": "markdown",
      "id": "8a113e56",
      "metadata": {
        "id": "8a113e56"
      },
      "source": [
        "# Descriptive Statistics With DataFrames\n",
        "\n",
        "> Before diving into an AI project, it is critical to become familiar with the data you will be modeling!  Pandas has a large collection of optimized methods designed to analyze your data.\n",
        "\n",
        "A preliminary data discovery and exploration phase can help you better understand the data you will be modeling, and has many downstream advantages:\n",
        "* You may identify potential problems with the dataset (e.g., missing values, outliers, incomplete columns, irrelevant information)\n",
        "* Results of data exploration may help you decide which preproessing or modeling approach to take.\n",
        "* A better understanding of your population will help you interpret your future results.\n",
        "\n",
        "## Remember Python functions?\n",
        "Pandas offers many **functions** that take as **input** a set of values (example: all of the values from the `temp_celsius` column), and **return** a calculated **output** value based on which function was used.\n",
        "\n",
        "Common examples:\n",
        "* [`sum`](https://pandas.pydata.org/docs/reference/api/pandas.DataFrame.sum.html#pandas-dataframe-sum) (sum the input values)\n",
        "* [`count`](https://pandas.pydata.org/docs/reference/api/pandas.DataFrame.count.html#pandas-dataframe-count) (count the number of input values), `value_counts` (count the number of each unique value)\n",
        "* [`min`](https://pandas.pydata.org/docs/reference/api/pandas.DataFrame.min.html#pandas-dataframe-min) (return the minimum value), `max` (return the maximum value)\n",
        "* [`mean`](https://pandas.pydata.org/docs/reference/api/pandas.DataFrame.mean.html#pandas-dataframe-mean) (return the mean value), `median` (median), `mode` (mode)\n",
        "* [`var`](https://pandas.pydata.org/docs/reference/api/pandas.DataFrame.var.html#pandas-dataframe-var) (variance), `std` (standard deviation)\n",
        "* [`quantile`](https://pandas.pydata.org/docs/reference/api/pandas.DataFrame.quantile.html#pandas-dataframe-quantile) (compute quantiles)\n"
      ]
    },
    {
      "cell_type": "markdown",
      "id": "rvluYRNAzpQY",
      "metadata": {
        "id": "rvluYRNAzpQY"
      },
      "source": [
        "\n",
        "Let's take a look at a few examples using our clinical dataset.\n",
        "\n",
        "First, let's compute the **mean** patient temperature, measured in Fahrenheit (i.e., the `temp_value` of our DataFrame)."
      ]
    },
    {
      "cell_type": "code",
      "execution_count": null,
      "id": "e45b5034",
      "metadata": {
        "colab": {
          "base_uri": "https://localhost:8080/"
        },
        "id": "e45b5034",
        "outputId": "0a3b0229-6f07-4544-827f-ec4b85fa2791"
      },
      "outputs": [
        {
          "data": {
            "text/plain": [
              "97.44479999999999"
            ]
          },
          "execution_count": 15,
          "metadata": {},
          "output_type": "execute_result"
        }
      ],
      "source": [
        "# Compute the mean temperature (Fahrenheit)\n",
        "temps_df['temp_value'].mean()"
      ]
    },
    {
      "cell_type": "markdown",
      "id": "fb2ae2e7",
      "metadata": {
        "id": "fb2ae2e7"
      },
      "source": [
        "#### **✏️ Exercise**\n",
        "\n",
        "1. Compute the **minimum** Fahrenheit temperature (`temp_value`)."
      ]
    },
    {
      "cell_type": "code",
      "execution_count": null,
      "id": "734a99a5",
      "metadata": {
        "id": "734a99a5"
      },
      "outputs": [],
      "source": []
    },
    {
      "cell_type": "markdown",
      "id": "Z82XIuGiiGnA",
      "metadata": {
        "id": "Z82XIuGiiGnA"
      },
      "source": [
        "#### **✏️Exercise**\n",
        "\n",
        "1. Create a new column (`temp_norm`) that is equal to the normalized `temp_value` column.\n",
        "\n",
        "$$x_{Normalized} = \\frac{x_{val}-x_{min}}{x_{max}−x_{min}}$$\n",
        "\n"
      ]
    },
    {
      "cell_type": "code",
      "execution_count": null,
      "id": "850dbf88",
      "metadata": {
        "id": "850dbf88"
      },
      "outputs": [],
      "source": []
    },
    {
      "cell_type": "markdown",
      "id": "01ccf6f1",
      "metadata": {
        "id": "01ccf6f1"
      },
      "source": [
        "#### **✏️Exercise**\n",
        "\n",
        "1. Count the number of occurrences of **each unique** temperature acquisition method (excluding missing values).\n",
        "\n",
        "* **Hint #1:** The `temp_source` column contains the temperature acquisition method.\n",
        "\n",
        "* **Hint #2:** The `value_counts()` function can be used to calculate counts of each unique value (excluding missing values)."
      ]
    },
    {
      "cell_type": "code",
      "execution_count": null,
      "id": "a0f19466",
      "metadata": {
        "id": "a0f19466"
      },
      "outputs": [],
      "source": []
    },
    {
      "cell_type": "markdown",
      "id": "f8534aca",
      "metadata": {
        "id": "f8534aca"
      },
      "source": [
        "The [`describe()`](https://pandas.pydata.org/docs/reference/api/pandas.DataFrame.describe.html#pandas.DataFrame.describe) function can be used on an entire DataFrame to display several common statistics (by default computed for every column), all at once.\n",
        "\n",
        "> **📌 Note:** In general, it's important to be aware of the values and data types contained in each column, as sometimes the statistics will not make sense. For example, `patient` is a randomized patient identifier, so numerical calculations with these values will be meaningless."
      ]
    },
    {
      "cell_type": "code",
      "execution_count": null,
      "id": "2383c2f6",
      "metadata": {
        "id": "2383c2f6",
        "outputId": "e1404e13-82ea-4bad-fed0-099d3d8ddb21"
      },
      "outputs": [
        {
          "data": {
            "text/html": [
              "<div>\n",
              "<style scoped>\n",
              "    .dataframe tbody tr th:only-of-type {\n",
              "        vertical-align: middle;\n",
              "    }\n",
              "\n",
              "    .dataframe tbody tr th {\n",
              "        vertical-align: top;\n",
              "    }\n",
              "\n",
              "    .dataframe thead th {\n",
              "        text-align: right;\n",
              "    }\n",
              "</style>\n",
              "<table border=\"1\" class=\"dataframe\">\n",
              "  <thead>\n",
              "    <tr style=\"text-align: right;\">\n",
              "      <th></th>\n",
              "      <th>patient_id</th>\n",
              "      <th>temp_value</th>\n",
              "      <th>temp_celsius</th>\n",
              "    </tr>\n",
              "  </thead>\n",
              "  <tbody>\n",
              "    <tr>\n",
              "      <th>count</th>\n",
              "      <td>2000.000000</td>\n",
              "      <td>2000.000000</td>\n",
              "      <td>2000.000000</td>\n",
              "    </tr>\n",
              "    <tr>\n",
              "      <th>mean</th>\n",
              "      <td>499.017000</td>\n",
              "      <td>97.444800</td>\n",
              "      <td>36.358222</td>\n",
              "    </tr>\n",
              "    <tr>\n",
              "      <th>std</th>\n",
              "      <td>289.878512</td>\n",
              "      <td>1.376775</td>\n",
              "      <td>0.764875</td>\n",
              "    </tr>\n",
              "    <tr>\n",
              "      <th>min</th>\n",
              "      <td>1.000000</td>\n",
              "      <td>89.500000</td>\n",
              "      <td>31.944444</td>\n",
              "    </tr>\n",
              "    <tr>\n",
              "      <th>25%</th>\n",
              "      <td>250.000000</td>\n",
              "      <td>96.600000</td>\n",
              "      <td>35.888889</td>\n",
              "    </tr>\n",
              "    <tr>\n",
              "      <th>50%</th>\n",
              "      <td>510.500000</td>\n",
              "      <td>97.400000</td>\n",
              "      <td>36.333333</td>\n",
              "    </tr>\n",
              "    <tr>\n",
              "      <th>75%</th>\n",
              "      <td>747.250000</td>\n",
              "      <td>98.300000</td>\n",
              "      <td>36.833333</td>\n",
              "    </tr>\n",
              "    <tr>\n",
              "      <th>max</th>\n",
              "      <td>999.000000</td>\n",
              "      <td>103.300000</td>\n",
              "      <td>39.611111</td>\n",
              "    </tr>\n",
              "  </tbody>\n",
              "</table>\n",
              "</div>"
            ],
            "text/plain": [
              "        patient_id   temp_value  temp_celsius\n",
              "count  2000.000000  2000.000000   2000.000000\n",
              "mean    499.017000    97.444800     36.358222\n",
              "std     289.878512     1.376775      0.764875\n",
              "min       1.000000    89.500000     31.944444\n",
              "25%     250.000000    96.600000     35.888889\n",
              "50%     510.500000    97.400000     36.333333\n",
              "75%     747.250000    98.300000     36.833333\n",
              "max     999.000000   103.300000     39.611111"
            ]
          },
          "execution_count": 24,
          "metadata": {},
          "output_type": "execute_result"
        }
      ],
      "source": [
        "# (Almost) everything, (almost) everywhere, all at once\n",
        "# Note: this code will only compute statistics for columns with numerical data.\n",
        "temps_df.describe()"
      ]
    },
    {
      "cell_type": "markdown",
      "id": "e8e532f0",
      "metadata": {
        "id": "e8e532f0"
      },
      "source": [
        "# Filtering data with conditionals\n",
        "Pandas makes it easy to select, analyze, and process subsets of your data based on some condition `C`. This is accomplished with easily understandable syntax: `df[C]` will return a subset of DataFrame `df` that **matches** the condition `C` listed inside brackets `[]`.\n",
        "\n",
        "* we can create filtering criteria using familiar mathematical operators that were used in Python conditionals.\n",
        "\n",
        "* **Helpful Tip:** `.isin(L)`: is equal to any value contained in the list `L`."
      ]
    },
    {
      "cell_type": "markdown",
      "id": "17853995",
      "metadata": {
        "id": "17853995"
      },
      "source": [
        "Let's display all recorded measurements where the patient's temperature was **greater** than 102$^{\\circ} F$.\n",
        "* In this example, the criteria `C` is `df['temp_value'] > 102`.\n",
        "* Recall the Pandas filtering syntax: `df[C]`.\n",
        "* So, this is what we want: `df[df['temp_value'] > 102]`."
      ]
    },
    {
      "cell_type": "code",
      "execution_count": null,
      "id": "effbed44",
      "metadata": {
        "id": "effbed44",
        "outputId": "ef58b10c-7055-4b5f-8cc5-3fac67ba82ce"
      },
      "outputs": [
        {
          "data": {
            "text/html": [
              "<div>\n",
              "<style scoped>\n",
              "    .dataframe tbody tr th:only-of-type {\n",
              "        vertical-align: middle;\n",
              "    }\n",
              "\n",
              "    .dataframe tbody tr th {\n",
              "        vertical-align: top;\n",
              "    }\n",
              "\n",
              "    .dataframe thead th {\n",
              "        text-align: right;\n",
              "    }\n",
              "</style>\n",
              "<table border=\"1\" class=\"dataframe\">\n",
              "  <thead>\n",
              "    <tr style=\"text-align: right;\">\n",
              "      <th></th>\n",
              "      <th>patient_id</th>\n",
              "      <th>time</th>\n",
              "      <th>temp_source</th>\n",
              "      <th>temp_value</th>\n",
              "      <th>temp_unit</th>\n",
              "      <th>temp_celsius</th>\n",
              "    </tr>\n",
              "  </thead>\n",
              "  <tbody>\n",
              "    <tr>\n",
              "      <th>728</th>\n",
              "      <td>361</td>\n",
              "      <td>1989-09-09 04:01:52</td>\n",
              "      <td>Oral</td>\n",
              "      <td>102.7</td>\n",
              "      <td>Farenheit</td>\n",
              "      <td>39.277778</td>\n",
              "    </tr>\n",
              "    <tr>\n",
              "      <th>735</th>\n",
              "      <td>365</td>\n",
              "      <td>1988-08-03 02:09:43</td>\n",
              "      <td>Temporal</td>\n",
              "      <td>103.3</td>\n",
              "      <td>Farenheit</td>\n",
              "      <td>39.611111</td>\n",
              "    </tr>\n",
              "    <tr>\n",
              "      <th>848</th>\n",
              "      <td>431</td>\n",
              "      <td>2028-01-07 18:34:20</td>\n",
              "      <td>Oral</td>\n",
              "      <td>102.2</td>\n",
              "      <td>Farenheit</td>\n",
              "      <td>39.000000</td>\n",
              "    </tr>\n",
              "    <tr>\n",
              "      <th>1154</th>\n",
              "      <td>586</td>\n",
              "      <td>1961-07-19 05:24:34</td>\n",
              "      <td>Oral</td>\n",
              "      <td>102.6</td>\n",
              "      <td>Farenheit</td>\n",
              "      <td>39.222222</td>\n",
              "    </tr>\n",
              "    <tr>\n",
              "      <th>1176</th>\n",
              "      <td>593</td>\n",
              "      <td>2008-09-04 19:38:22</td>\n",
              "      <td>Tympanic</td>\n",
              "      <td>103.1</td>\n",
              "      <td>Farenheit</td>\n",
              "      <td>39.500000</td>\n",
              "    </tr>\n",
              "  </tbody>\n",
              "</table>\n",
              "</div>"
            ],
            "text/plain": [
              "      patient_id                 time temp_source  temp_value  temp_unit  \\\n",
              "728          361  1989-09-09 04:01:52        Oral       102.7  Farenheit   \n",
              "735          365  1988-08-03 02:09:43    Temporal       103.3  Farenheit   \n",
              "848          431  2028-01-07 18:34:20        Oral       102.2  Farenheit   \n",
              "1154         586  1961-07-19 05:24:34        Oral       102.6  Farenheit   \n",
              "1176         593  2008-09-04 19:38:22    Tympanic       103.1  Farenheit   \n",
              "\n",
              "      temp_celsius  \n",
              "728      39.277778  \n",
              "735      39.611111  \n",
              "848      39.000000  \n",
              "1154     39.222222  \n",
              "1176     39.500000  "
            ]
          },
          "execution_count": 25,
          "metadata": {},
          "output_type": "execute_result"
        }
      ],
      "source": [
        "# Select rows where Fahrenheit temperature is greater than 102 degrees.\n",
        "temps_df[temps_df['temp_value'] > 102]"
      ]
    },
    {
      "cell_type": "markdown",
      "id": "4dcdd276",
      "metadata": {
        "id": "4dcdd276"
      },
      "source": [
        "#### **✏️ Exercise**\n",
        "\n",
        "1. Display readings where temperature is less than 94$^{\\circ} F$."
      ]
    },
    {
      "cell_type": "code",
      "execution_count": null,
      "id": "45465e39",
      "metadata": {
        "id": "45465e39"
      },
      "outputs": [],
      "source": []
    },
    {
      "cell_type": "markdown",
      "id": "69539eb3",
      "metadata": {
        "id": "69539eb3"
      },
      "source": [
        "Now, let's write code to display the first `5` measurements where the temperature acquisition method (`temp_source`) is `Core`.\n",
        "\n",
        "* Recall that the symbol `==` will check for equality (we want the source to be equal to the single value `Core`).\n",
        "* In this example, the criteria `C` is `df['temp_value'] == 'Core'`.\n",
        "* Given the Pandas filtering syntax: `df[C]`, this is what we want: `df[df['temp_source'] == 'Core']`."
      ]
    },
    {
      "cell_type": "code",
      "execution_count": null,
      "id": "a17076c2",
      "metadata": {
        "id": "a17076c2",
        "outputId": "26a5889c-f4fd-44fc-f9dc-ae87f04a9ca7"
      },
      "outputs": [
        {
          "data": {
            "text/html": [
              "<div>\n",
              "<style scoped>\n",
              "    .dataframe tbody tr th:only-of-type {\n",
              "        vertical-align: middle;\n",
              "    }\n",
              "\n",
              "    .dataframe tbody tr th {\n",
              "        vertical-align: top;\n",
              "    }\n",
              "\n",
              "    .dataframe thead th {\n",
              "        text-align: right;\n",
              "    }\n",
              "</style>\n",
              "<table border=\"1\" class=\"dataframe\">\n",
              "  <thead>\n",
              "    <tr style=\"text-align: right;\">\n",
              "      <th></th>\n",
              "      <th>patient_id</th>\n",
              "      <th>time</th>\n",
              "      <th>temp_source</th>\n",
              "      <th>temp_value</th>\n",
              "      <th>temp_unit</th>\n",
              "      <th>temp_celsius</th>\n",
              "    </tr>\n",
              "  </thead>\n",
              "  <tbody>\n",
              "    <tr>\n",
              "      <th>0</th>\n",
              "      <td>1</td>\n",
              "      <td>1984-06-18 17:58:02</td>\n",
              "      <td>Core</td>\n",
              "      <td>97.3</td>\n",
              "      <td>Farenheit</td>\n",
              "      <td>36.277778</td>\n",
              "    </tr>\n",
              "    <tr>\n",
              "      <th>8</th>\n",
              "      <td>3</td>\n",
              "      <td>2086-04-26 13:47:46</td>\n",
              "      <td>Core</td>\n",
              "      <td>94.8</td>\n",
              "      <td>Farenheit</td>\n",
              "      <td>34.888889</td>\n",
              "    </tr>\n",
              "    <tr>\n",
              "      <th>11</th>\n",
              "      <td>5</td>\n",
              "      <td>1932-01-22 15:41:18</td>\n",
              "      <td>Core</td>\n",
              "      <td>99.0</td>\n",
              "      <td>Farenheit</td>\n",
              "      <td>37.222222</td>\n",
              "    </tr>\n",
              "    <tr>\n",
              "      <th>18</th>\n",
              "      <td>9</td>\n",
              "      <td>1993-07-29 22:59:22</td>\n",
              "      <td>Core</td>\n",
              "      <td>97.3</td>\n",
              "      <td>Farenheit</td>\n",
              "      <td>36.277778</td>\n",
              "    </tr>\n",
              "    <tr>\n",
              "      <th>25</th>\n",
              "      <td>12</td>\n",
              "      <td>1972-10-22 12:13:21</td>\n",
              "      <td>Core</td>\n",
              "      <td>94.8</td>\n",
              "      <td>Farenheit</td>\n",
              "      <td>34.888889</td>\n",
              "    </tr>\n",
              "  </tbody>\n",
              "</table>\n",
              "</div>"
            ],
            "text/plain": [
              "    patient_id                 time temp_source  temp_value  temp_unit  \\\n",
              "0            1  1984-06-18 17:58:02        Core        97.3  Farenheit   \n",
              "8            3  2086-04-26 13:47:46        Core        94.8  Farenheit   \n",
              "11           5  1932-01-22 15:41:18        Core        99.0  Farenheit   \n",
              "18           9  1993-07-29 22:59:22        Core        97.3  Farenheit   \n",
              "25          12  1972-10-22 12:13:21        Core        94.8  Farenheit   \n",
              "\n",
              "    temp_celsius  \n",
              "0      36.277778  \n",
              "8      34.888889  \n",
              "11     37.222222  \n",
              "18     36.277778  \n",
              "25     34.888889  "
            ]
          },
          "execution_count": 27,
          "metadata": {},
          "output_type": "execute_result"
        }
      ],
      "source": [
        "# Show the first 5 core temperature measurements.\n",
        "temps_df[temps_df['temp_source'] == 'Core'].head()"
      ]
    },
    {
      "cell_type": "markdown",
      "id": "cceae2a5",
      "metadata": {
        "id": "cceae2a5"
      },
      "source": [
        "#### **✏️ Exercise:**\n",
        "\n",
        "1. Display the first `5` readings where the temperature acquisition method (`temp_source`) is `Tympanic`."
      ]
    },
    {
      "cell_type": "code",
      "execution_count": null,
      "id": "d71ee165",
      "metadata": {
        "id": "d71ee165"
      },
      "outputs": [],
      "source": []
    },
    {
      "cell_type": "markdown",
      "id": "c7bc6f15",
      "metadata": {
        "id": "c7bc6f15"
      },
      "source": [
        "# Combining multiple filtering criteria\n",
        "\n",
        "Multiple criteria can be combined using either the `&` or `|` symbols:\n",
        "* C1 `&` C2: This will select rows that match **both** criteria C1 **and** C2.\n",
        "* C1 `&` C2: This will select rows that match **either** criteria C1 **or** C2.\n",
        "\n",
        "Let's see how we can display all measurements where the patient's temperature was between 99$^{\\circ} F$ and 100$^{\\circ} F$.\n",
        "\n",
        "In this example, we have two criteria:\n",
        "* C1: `temps_df['temp_value'] >= 99`\n",
        "* C2: `temps_df['temp_value'] <= 100`"
      ]
    },
    {
      "cell_type": "code",
      "execution_count": null,
      "id": "f9d2d237",
      "metadata": {
        "colab": {
          "base_uri": "https://localhost:8080/",
          "height": 423
        },
        "id": "f9d2d237",
        "outputId": "0dc76090-0882-408b-99f4-24aceb6202f1"
      },
      "outputs": [
        {
          "data": {
            "application/vnd.google.colaboratory.intrinsic+json": {
              "repr_error": "0",
              "type": "dataframe"
            },
            "text/html": [
              "\n",
              "  <div id=\"df-2bb9f0f9-de32-4f07-915c-29e18e52b21e\" class=\"colab-df-container\">\n",
              "    <div>\n",
              "<style scoped>\n",
              "    .dataframe tbody tr th:only-of-type {\n",
              "        vertical-align: middle;\n",
              "    }\n",
              "\n",
              "    .dataframe tbody tr th {\n",
              "        vertical-align: top;\n",
              "    }\n",
              "\n",
              "    .dataframe thead th {\n",
              "        text-align: right;\n",
              "    }\n",
              "</style>\n",
              "<table border=\"1\" class=\"dataframe\">\n",
              "  <thead>\n",
              "    <tr style=\"text-align: right;\">\n",
              "      <th></th>\n",
              "      <th>patient_id</th>\n",
              "      <th>time</th>\n",
              "      <th>temp_source</th>\n",
              "      <th>temp_value</th>\n",
              "      <th>temp_unit</th>\n",
              "    </tr>\n",
              "  </thead>\n",
              "  <tbody>\n",
              "    <tr>\n",
              "      <th>11</th>\n",
              "      <td>5</td>\n",
              "      <td>1932-01-22 15:41:18</td>\n",
              "      <td>Core</td>\n",
              "      <td>99.0</td>\n",
              "      <td>Farenheit</td>\n",
              "    </tr>\n",
              "    <tr>\n",
              "      <th>38</th>\n",
              "      <td>19</td>\n",
              "      <td>2059-04-21 09:56:06</td>\n",
              "      <td>Core</td>\n",
              "      <td>99.0</td>\n",
              "      <td>Farenheit</td>\n",
              "    </tr>\n",
              "    <tr>\n",
              "      <th>63</th>\n",
              "      <td>27</td>\n",
              "      <td>1996-12-11 22:18:43</td>\n",
              "      <td>Oral</td>\n",
              "      <td>99.9</td>\n",
              "      <td>Farenheit</td>\n",
              "    </tr>\n",
              "    <tr>\n",
              "      <th>85</th>\n",
              "      <td>36</td>\n",
              "      <td>2004-10-13 23:54:59</td>\n",
              "      <td>Core</td>\n",
              "      <td>99.7</td>\n",
              "      <td>Farenheit</td>\n",
              "    </tr>\n",
              "    <tr>\n",
              "      <th>89</th>\n",
              "      <td>37</td>\n",
              "      <td>2004-02-05 05:18:02</td>\n",
              "      <td>Core</td>\n",
              "      <td>99.4</td>\n",
              "      <td>Farenheit</td>\n",
              "    </tr>\n",
              "    <tr>\n",
              "      <th>...</th>\n",
              "      <td>...</td>\n",
              "      <td>...</td>\n",
              "      <td>...</td>\n",
              "      <td>...</td>\n",
              "      <td>...</td>\n",
              "    </tr>\n",
              "    <tr>\n",
              "      <th>1938</th>\n",
              "      <td>965</td>\n",
              "      <td>2068-03-14 16:38:39</td>\n",
              "      <td>Oral</td>\n",
              "      <td>99.7</td>\n",
              "      <td>Farenheit</td>\n",
              "    </tr>\n",
              "    <tr>\n",
              "      <th>1960</th>\n",
              "      <td>977</td>\n",
              "      <td>2014-07-10 02:40:05</td>\n",
              "      <td>PA catheter probe</td>\n",
              "      <td>99.1</td>\n",
              "      <td>Farenheit</td>\n",
              "    </tr>\n",
              "    <tr>\n",
              "      <th>1968</th>\n",
              "      <td>984</td>\n",
              "      <td>2037-06-10 05:39:30</td>\n",
              "      <td>Temporal</td>\n",
              "      <td>100.0</td>\n",
              "      <td>Farenheit</td>\n",
              "    </tr>\n",
              "    <tr>\n",
              "      <th>1973</th>\n",
              "      <td>986</td>\n",
              "      <td>1972-08-22 21:08:46</td>\n",
              "      <td>Tympanic</td>\n",
              "      <td>99.0</td>\n",
              "      <td>Farenheit</td>\n",
              "    </tr>\n",
              "    <tr>\n",
              "      <th>1984</th>\n",
              "      <td>992</td>\n",
              "      <td>1956-07-10 11:55:21</td>\n",
              "      <td>Temporal</td>\n",
              "      <td>99.9</td>\n",
              "      <td>Farenheit</td>\n",
              "    </tr>\n",
              "  </tbody>\n",
              "</table>\n",
              "<p>150 rows × 5 columns</p>\n",
              "</div>\n",
              "    <div class=\"colab-df-buttons\">\n",
              "\n",
              "  <div class=\"colab-df-container\">\n",
              "    <button class=\"colab-df-convert\" onclick=\"convertToInteractive('df-2bb9f0f9-de32-4f07-915c-29e18e52b21e')\"\n",
              "            title=\"Convert this dataframe to an interactive table.\"\n",
              "            style=\"display:none;\">\n",
              "\n",
              "  <svg xmlns=\"http://www.w3.org/2000/svg\" height=\"24px\" viewBox=\"0 -960 960 960\">\n",
              "    <path d=\"M120-120v-720h720v720H120Zm60-500h600v-160H180v160Zm220 220h160v-160H400v160Zm0 220h160v-160H400v160ZM180-400h160v-160H180v160Zm440 0h160v-160H620v160ZM180-180h160v-160H180v160Zm440 0h160v-160H620v160Z\"/>\n",
              "  </svg>\n",
              "    </button>\n",
              "\n",
              "  <style>\n",
              "    .colab-df-container {\n",
              "      display:flex;\n",
              "      gap: 12px;\n",
              "    }\n",
              "\n",
              "    .colab-df-convert {\n",
              "      background-color: #E8F0FE;\n",
              "      border: none;\n",
              "      border-radius: 50%;\n",
              "      cursor: pointer;\n",
              "      display: none;\n",
              "      fill: #1967D2;\n",
              "      height: 32px;\n",
              "      padding: 0 0 0 0;\n",
              "      width: 32px;\n",
              "    }\n",
              "\n",
              "    .colab-df-convert:hover {\n",
              "      background-color: #E2EBFA;\n",
              "      box-shadow: 0px 1px 2px rgba(60, 64, 67, 0.3), 0px 1px 3px 1px rgba(60, 64, 67, 0.15);\n",
              "      fill: #174EA6;\n",
              "    }\n",
              "\n",
              "    .colab-df-buttons div {\n",
              "      margin-bottom: 4px;\n",
              "    }\n",
              "\n",
              "    [theme=dark] .colab-df-convert {\n",
              "      background-color: #3B4455;\n",
              "      fill: #D2E3FC;\n",
              "    }\n",
              "\n",
              "    [theme=dark] .colab-df-convert:hover {\n",
              "      background-color: #434B5C;\n",
              "      box-shadow: 0px 1px 3px 1px rgba(0, 0, 0, 0.15);\n",
              "      filter: drop-shadow(0px 1px 2px rgba(0, 0, 0, 0.3));\n",
              "      fill: #FFFFFF;\n",
              "    }\n",
              "  </style>\n",
              "\n",
              "    <script>\n",
              "      const buttonEl =\n",
              "        document.querySelector('#df-2bb9f0f9-de32-4f07-915c-29e18e52b21e button.colab-df-convert');\n",
              "      buttonEl.style.display =\n",
              "        google.colab.kernel.accessAllowed ? 'block' : 'none';\n",
              "\n",
              "      async function convertToInteractive(key) {\n",
              "        const element = document.querySelector('#df-2bb9f0f9-de32-4f07-915c-29e18e52b21e');\n",
              "        const dataTable =\n",
              "          await google.colab.kernel.invokeFunction('convertToInteractive',\n",
              "                                                    [key], {});\n",
              "        if (!dataTable) return;\n",
              "\n",
              "        const docLinkHtml = 'Like what you see? Visit the ' +\n",
              "          '<a target=\"_blank\" href=https://colab.research.google.com/notebooks/data_table.ipynb>data table notebook</a>'\n",
              "          + ' to learn more about interactive tables.';\n",
              "        element.innerHTML = '';\n",
              "        dataTable['output_type'] = 'display_data';\n",
              "        await google.colab.output.renderOutput(dataTable, element);\n",
              "        const docLink = document.createElement('div');\n",
              "        docLink.innerHTML = docLinkHtml;\n",
              "        element.appendChild(docLink);\n",
              "      }\n",
              "    </script>\n",
              "  </div>\n",
              "\n",
              "\n",
              "<div id=\"df-9763af33-4039-48c3-812b-1f491a1eab9c\">\n",
              "  <button class=\"colab-df-quickchart\" onclick=\"quickchart('df-9763af33-4039-48c3-812b-1f491a1eab9c')\"\n",
              "            title=\"Suggest charts\"\n",
              "            style=\"display:none;\">\n",
              "\n",
              "<svg xmlns=\"http://www.w3.org/2000/svg\" height=\"24px\"viewBox=\"0 0 24 24\"\n",
              "     width=\"24px\">\n",
              "    <g>\n",
              "        <path d=\"M19 3H5c-1.1 0-2 .9-2 2v14c0 1.1.9 2 2 2h14c1.1 0 2-.9 2-2V5c0-1.1-.9-2-2-2zM9 17H7v-7h2v7zm4 0h-2V7h2v10zm4 0h-2v-4h2v4z\"/>\n",
              "    </g>\n",
              "</svg>\n",
              "  </button>\n",
              "\n",
              "<style>\n",
              "  .colab-df-quickchart {\n",
              "      --bg-color: #E8F0FE;\n",
              "      --fill-color: #1967D2;\n",
              "      --hover-bg-color: #E2EBFA;\n",
              "      --hover-fill-color: #174EA6;\n",
              "      --disabled-fill-color: #AAA;\n",
              "      --disabled-bg-color: #DDD;\n",
              "  }\n",
              "\n",
              "  [theme=dark] .colab-df-quickchart {\n",
              "      --bg-color: #3B4455;\n",
              "      --fill-color: #D2E3FC;\n",
              "      --hover-bg-color: #434B5C;\n",
              "      --hover-fill-color: #FFFFFF;\n",
              "      --disabled-bg-color: #3B4455;\n",
              "      --disabled-fill-color: #666;\n",
              "  }\n",
              "\n",
              "  .colab-df-quickchart {\n",
              "    background-color: var(--bg-color);\n",
              "    border: none;\n",
              "    border-radius: 50%;\n",
              "    cursor: pointer;\n",
              "    display: none;\n",
              "    fill: var(--fill-color);\n",
              "    height: 32px;\n",
              "    padding: 0;\n",
              "    width: 32px;\n",
              "  }\n",
              "\n",
              "  .colab-df-quickchart:hover {\n",
              "    background-color: var(--hover-bg-color);\n",
              "    box-shadow: 0 1px 2px rgba(60, 64, 67, 0.3), 0 1px 3px 1px rgba(60, 64, 67, 0.15);\n",
              "    fill: var(--button-hover-fill-color);\n",
              "  }\n",
              "\n",
              "  .colab-df-quickchart-complete:disabled,\n",
              "  .colab-df-quickchart-complete:disabled:hover {\n",
              "    background-color: var(--disabled-bg-color);\n",
              "    fill: var(--disabled-fill-color);\n",
              "    box-shadow: none;\n",
              "  }\n",
              "\n",
              "  .colab-df-spinner {\n",
              "    border: 2px solid var(--fill-color);\n",
              "    border-color: transparent;\n",
              "    border-bottom-color: var(--fill-color);\n",
              "    animation:\n",
              "      spin 1s steps(1) infinite;\n",
              "  }\n",
              "\n",
              "  @keyframes spin {\n",
              "    0% {\n",
              "      border-color: transparent;\n",
              "      border-bottom-color: var(--fill-color);\n",
              "      border-left-color: var(--fill-color);\n",
              "    }\n",
              "    20% {\n",
              "      border-color: transparent;\n",
              "      border-left-color: var(--fill-color);\n",
              "      border-top-color: var(--fill-color);\n",
              "    }\n",
              "    30% {\n",
              "      border-color: transparent;\n",
              "      border-left-color: var(--fill-color);\n",
              "      border-top-color: var(--fill-color);\n",
              "      border-right-color: var(--fill-color);\n",
              "    }\n",
              "    40% {\n",
              "      border-color: transparent;\n",
              "      border-right-color: var(--fill-color);\n",
              "      border-top-color: var(--fill-color);\n",
              "    }\n",
              "    60% {\n",
              "      border-color: transparent;\n",
              "      border-right-color: var(--fill-color);\n",
              "    }\n",
              "    80% {\n",
              "      border-color: transparent;\n",
              "      border-right-color: var(--fill-color);\n",
              "      border-bottom-color: var(--fill-color);\n",
              "    }\n",
              "    90% {\n",
              "      border-color: transparent;\n",
              "      border-bottom-color: var(--fill-color);\n",
              "    }\n",
              "  }\n",
              "</style>\n",
              "\n",
              "  <script>\n",
              "    async function quickchart(key) {\n",
              "      const quickchartButtonEl =\n",
              "        document.querySelector('#' + key + ' button');\n",
              "      quickchartButtonEl.disabled = true;  // To prevent multiple clicks.\n",
              "      quickchartButtonEl.classList.add('colab-df-spinner');\n",
              "      try {\n",
              "        const charts = await google.colab.kernel.invokeFunction(\n",
              "            'suggestCharts', [key], {});\n",
              "      } catch (error) {\n",
              "        console.error('Error during call to suggestCharts:', error);\n",
              "      }\n",
              "      quickchartButtonEl.classList.remove('colab-df-spinner');\n",
              "      quickchartButtonEl.classList.add('colab-df-quickchart-complete');\n",
              "    }\n",
              "    (() => {\n",
              "      let quickchartButtonEl =\n",
              "        document.querySelector('#df-9763af33-4039-48c3-812b-1f491a1eab9c button');\n",
              "      quickchartButtonEl.style.display =\n",
              "        google.colab.kernel.accessAllowed ? 'block' : 'none';\n",
              "    })();\n",
              "  </script>\n",
              "</div>\n",
              "\n",
              "    </div>\n",
              "  </div>\n"
            ],
            "text/plain": [
              "      patient_id                 time        temp_source  temp_value  \\\n",
              "11             5  1932-01-22 15:41:18               Core        99.0   \n",
              "38            19  2059-04-21 09:56:06               Core        99.0   \n",
              "63            27  1996-12-11 22:18:43               Oral        99.9   \n",
              "85            36  2004-10-13 23:54:59               Core        99.7   \n",
              "89            37  2004-02-05 05:18:02               Core        99.4   \n",
              "...          ...                  ...                ...         ...   \n",
              "1938         965  2068-03-14 16:38:39               Oral        99.7   \n",
              "1960         977  2014-07-10 02:40:05  PA catheter probe        99.1   \n",
              "1968         984  2037-06-10 05:39:30           Temporal       100.0   \n",
              "1973         986  1972-08-22 21:08:46           Tympanic        99.0   \n",
              "1984         992  1956-07-10 11:55:21           Temporal        99.9   \n",
              "\n",
              "      temp_unit  \n",
              "11    Farenheit  \n",
              "38    Farenheit  \n",
              "63    Farenheit  \n",
              "85    Farenheit  \n",
              "89    Farenheit  \n",
              "...         ...  \n",
              "1938  Farenheit  \n",
              "1960  Farenheit  \n",
              "1968  Farenheit  \n",
              "1973  Farenheit  \n",
              "1984  Farenheit  \n",
              "\n",
              "[150 rows x 5 columns]"
            ]
          },
          "execution_count": 7,
          "metadata": {},
          "output_type": "execute_result"
        }
      ],
      "source": [
        "# Select rows where the Fahrenheit temperature is between 99 and 100 degrees.\n",
        "temps_df[(temps_df['temp_value'] >= 99) & (temps_df['temp_value'] <= 100)]"
      ]
    },
    {
      "cell_type": "markdown",
      "id": "668e228a",
      "metadata": {
        "id": "668e228a"
      },
      "source": [
        "#### **✏️ Exercise:**\n",
        "\n",
        "1. Display all `Core` temperatures that are greater than `100`$^{\\circ} F$.\n",
        "\n",
        "* **Hint:** we have 2 criteria."
      ]
    },
    {
      "cell_type": "code",
      "execution_count": null,
      "id": "9aedbbfd",
      "metadata": {
        "id": "9aedbbfd"
      },
      "outputs": [],
      "source": []
    },
    {
      "cell_type": "markdown",
      "id": "0e7a5eb1",
      "metadata": {
        "id": "0e7a5eb1"
      },
      "source": [
        "# Analyzing filtered data\n",
        "We can also apply the previous methods for computing descriptive statistics on a filtered data subset. Let's take a look at the distribution and other key statistics of all `Core` temperature measurements that were greater than `100`$^{\\circ} F$."
      ]
    },
    {
      "cell_type": "code",
      "execution_count": null,
      "id": "fb9a1376",
      "metadata": {
        "id": "fb9a1376",
        "outputId": "9504c224-b301-490b-8df5-2e12b703dc88"
      },
      "outputs": [
        {
          "data": {
            "text/html": [
              "<div>\n",
              "<style scoped>\n",
              "    .dataframe tbody tr th:only-of-type {\n",
              "        vertical-align: middle;\n",
              "    }\n",
              "\n",
              "    .dataframe tbody tr th {\n",
              "        vertical-align: top;\n",
              "    }\n",
              "\n",
              "    .dataframe thead th {\n",
              "        text-align: right;\n",
              "    }\n",
              "</style>\n",
              "<table border=\"1\" class=\"dataframe\">\n",
              "  <thead>\n",
              "    <tr style=\"text-align: right;\">\n",
              "      <th></th>\n",
              "      <th>patient_id</th>\n",
              "      <th>temp_value</th>\n",
              "      <th>temp_celsius</th>\n",
              "    </tr>\n",
              "  </thead>\n",
              "  <tbody>\n",
              "    <tr>\n",
              "      <th>count</th>\n",
              "      <td>9.000000</td>\n",
              "      <td>9.000000</td>\n",
              "      <td>9.000000</td>\n",
              "    </tr>\n",
              "    <tr>\n",
              "      <th>mean</th>\n",
              "      <td>349.333333</td>\n",
              "      <td>100.933333</td>\n",
              "      <td>38.296296</td>\n",
              "    </tr>\n",
              "    <tr>\n",
              "      <th>std</th>\n",
              "      <td>319.711198</td>\n",
              "      <td>0.561249</td>\n",
              "      <td>0.311805</td>\n",
              "    </tr>\n",
              "    <tr>\n",
              "      <th>min</th>\n",
              "      <td>12.000000</td>\n",
              "      <td>100.200000</td>\n",
              "      <td>37.888889</td>\n",
              "    </tr>\n",
              "    <tr>\n",
              "      <th>25%</th>\n",
              "      <td>88.000000</td>\n",
              "      <td>100.600000</td>\n",
              "      <td>38.111111</td>\n",
              "    </tr>\n",
              "    <tr>\n",
              "      <th>50%</th>\n",
              "      <td>316.000000</td>\n",
              "      <td>100.900000</td>\n",
              "      <td>38.277778</td>\n",
              "    </tr>\n",
              "    <tr>\n",
              "      <th>75%</th>\n",
              "      <td>591.000000</td>\n",
              "      <td>101.300000</td>\n",
              "      <td>38.500000</td>\n",
              "    </tr>\n",
              "    <tr>\n",
              "      <th>max</th>\n",
              "      <td>894.000000</td>\n",
              "      <td>101.700000</td>\n",
              "      <td>38.722222</td>\n",
              "    </tr>\n",
              "  </tbody>\n",
              "</table>\n",
              "</div>"
            ],
            "text/plain": [
              "       patient_id  temp_value  temp_celsius\n",
              "count    9.000000    9.000000      9.000000\n",
              "mean   349.333333  100.933333     38.296296\n",
              "std    319.711198    0.561249      0.311805\n",
              "min     12.000000  100.200000     37.888889\n",
              "25%     88.000000  100.600000     38.111111\n",
              "50%    316.000000  100.900000     38.277778\n",
              "75%    591.000000  101.300000     38.500000\n",
              "max    894.000000  101.700000     38.722222"
            ]
          },
          "execution_count": 31,
          "metadata": {},
          "output_type": "execute_result"
        }
      ],
      "source": [
        "temps_df[(temps_df['temp_source'] == 'Core') & (temps_df['temp_value'] > 100)].describe()"
      ]
    },
    {
      "cell_type": "markdown",
      "id": "5d9c19e1",
      "metadata": {
        "id": "5d9c19e1"
      },
      "source": [
        "# Data visualization\n",
        "Pandas relies on the Matplotlib library to provide easy visualization of DataFrames.\n",
        "\n",
        "Let's start by importing a new dataset."
      ]
    },
    {
      "cell_type": "code",
      "execution_count": null,
      "id": "088473f7",
      "metadata": {
        "colab": {
          "base_uri": "https://localhost:8080/",
          "height": 235
        },
        "id": "088473f7",
        "outputId": "a2e83627-81ec-47ed-f4f0-945c8c644763"
      },
      "outputs": [
        {
          "data": {
            "application/vnd.google.colaboratory.intrinsic+json": {
              "type": "dataframe",
              "variable_name": "patient_df"
            },
            "text/html": [
              "\n",
              "  <div id=\"df-649266d7-3272-4e32-8a9c-0dafef4d8fbc\" class=\"colab-df-container\">\n",
              "    <div>\n",
              "<style scoped>\n",
              "    .dataframe tbody tr th:only-of-type {\n",
              "        vertical-align: middle;\n",
              "    }\n",
              "\n",
              "    .dataframe tbody tr th {\n",
              "        vertical-align: top;\n",
              "    }\n",
              "\n",
              "    .dataframe thead th {\n",
              "        text-align: right;\n",
              "    }\n",
              "</style>\n",
              "<table border=\"1\" class=\"dataframe\">\n",
              "  <thead>\n",
              "    <tr style=\"text-align: right;\">\n",
              "      <th></th>\n",
              "      <th>patient_id</th>\n",
              "      <th>sex</th>\n",
              "      <th>ethnicity</th>\n",
              "      <th>race</th>\n",
              "      <th>language</th>\n",
              "      <th>marital_status</th>\n",
              "      <th>age</th>\n",
              "      <th>bmi</th>\n",
              "      <th>admission_source</th>\n",
              "      <th>emergent</th>\n",
              "      <th>...</th>\n",
              "      <th>valve</th>\n",
              "      <th>coag</th>\n",
              "      <th>obese</th>\n",
              "      <th>wghtloss</th>\n",
              "      <th>lytes</th>\n",
              "      <th>anemia</th>\n",
              "      <th>alc_drug</th>\n",
              "      <th>depress</th>\n",
              "      <th>egfr</th>\n",
              "      <th>aki</th>\n",
              "    </tr>\n",
              "  </thead>\n",
              "  <tbody>\n",
              "    <tr>\n",
              "      <th>0</th>\n",
              "      <td>0</td>\n",
              "      <td>MALE</td>\n",
              "      <td>NON-HISPANIC</td>\n",
              "      <td>WHITE</td>\n",
              "      <td>ENGLISH</td>\n",
              "      <td>MARRIED</td>\n",
              "      <td>62.4614</td>\n",
              "      <td>24.6711</td>\n",
              "      <td>NON-TRANSFER</td>\n",
              "      <td>EMERGENCY</td>\n",
              "      <td>...</td>\n",
              "      <td>0</td>\n",
              "      <td>0</td>\n",
              "      <td>1</td>\n",
              "      <td>0</td>\n",
              "      <td>0</td>\n",
              "      <td>0</td>\n",
              "      <td>0</td>\n",
              "      <td>1</td>\n",
              "      <td>82.1529</td>\n",
              "      <td>0</td>\n",
              "    </tr>\n",
              "    <tr>\n",
              "      <th>1</th>\n",
              "      <td>1</td>\n",
              "      <td>MALE</td>\n",
              "      <td>NON-HISPANIC</td>\n",
              "      <td>WHITE</td>\n",
              "      <td>ENGLISH</td>\n",
              "      <td>SINGLE</td>\n",
              "      <td>65.3903</td>\n",
              "      <td>30.5554</td>\n",
              "      <td>TRANSFER</td>\n",
              "      <td>NON-EMERGENCY</td>\n",
              "      <td>...</td>\n",
              "      <td>0</td>\n",
              "      <td>0</td>\n",
              "      <td>0</td>\n",
              "      <td>1</td>\n",
              "      <td>0</td>\n",
              "      <td>1</td>\n",
              "      <td>0</td>\n",
              "      <td>0</td>\n",
              "      <td>104.7827</td>\n",
              "      <td>1</td>\n",
              "    </tr>\n",
              "    <tr>\n",
              "      <th>2</th>\n",
              "      <td>2</td>\n",
              "      <td>FEMALE</td>\n",
              "      <td>NON-HISPANIC</td>\n",
              "      <td>WHITE</td>\n",
              "      <td>ENGLISH</td>\n",
              "      <td>SINGLE</td>\n",
              "      <td>82.6667</td>\n",
              "      <td>40.5842</td>\n",
              "      <td>NON-TRANSFER</td>\n",
              "      <td>NON-EMERGENCY</td>\n",
              "      <td>...</td>\n",
              "      <td>0</td>\n",
              "      <td>0</td>\n",
              "      <td>1</td>\n",
              "      <td>0</td>\n",
              "      <td>0</td>\n",
              "      <td>1</td>\n",
              "      <td>0</td>\n",
              "      <td>0</td>\n",
              "      <td>85.4759</td>\n",
              "      <td>0</td>\n",
              "    </tr>\n",
              "    <tr>\n",
              "      <th>3</th>\n",
              "      <td>3</td>\n",
              "      <td>MALE</td>\n",
              "      <td>NON-HISPANIC</td>\n",
              "      <td>WHITE</td>\n",
              "      <td>ENGLISH</td>\n",
              "      <td>MARRIED</td>\n",
              "      <td>62.1461</td>\n",
              "      <td>22.5506</td>\n",
              "      <td>NON-TRANSFER</td>\n",
              "      <td>EMERGENCY</td>\n",
              "      <td>...</td>\n",
              "      <td>0</td>\n",
              "      <td>1</td>\n",
              "      <td>1</td>\n",
              "      <td>0</td>\n",
              "      <td>1</td>\n",
              "      <td>0</td>\n",
              "      <td>1</td>\n",
              "      <td>0</td>\n",
              "      <td>57.2850</td>\n",
              "      <td>0</td>\n",
              "    </tr>\n",
              "    <tr>\n",
              "      <th>4</th>\n",
              "      <td>4</td>\n",
              "      <td>FEMALE</td>\n",
              "      <td>NON-HISPANIC</td>\n",
              "      <td>WHITE</td>\n",
              "      <td>ENGLISH</td>\n",
              "      <td>MARRIED</td>\n",
              "      <td>43.1582</td>\n",
              "      <td>16.7270</td>\n",
              "      <td>NON-TRANSFER</td>\n",
              "      <td>EMERGENCY</td>\n",
              "      <td>...</td>\n",
              "      <td>0</td>\n",
              "      <td>0</td>\n",
              "      <td>0</td>\n",
              "      <td>0</td>\n",
              "      <td>1</td>\n",
              "      <td>0</td>\n",
              "      <td>1</td>\n",
              "      <td>0</td>\n",
              "      <td>NaN</td>\n",
              "      <td>1</td>\n",
              "    </tr>\n",
              "  </tbody>\n",
              "</table>\n",
              "<p>5 rows × 49 columns</p>\n",
              "</div>\n",
              "    <div class=\"colab-df-buttons\">\n",
              "\n",
              "  <div class=\"colab-df-container\">\n",
              "    <button class=\"colab-df-convert\" onclick=\"convertToInteractive('df-649266d7-3272-4e32-8a9c-0dafef4d8fbc')\"\n",
              "            title=\"Convert this dataframe to an interactive table.\"\n",
              "            style=\"display:none;\">\n",
              "\n",
              "  <svg xmlns=\"http://www.w3.org/2000/svg\" height=\"24px\" viewBox=\"0 -960 960 960\">\n",
              "    <path d=\"M120-120v-720h720v720H120Zm60-500h600v-160H180v160Zm220 220h160v-160H400v160Zm0 220h160v-160H400v160ZM180-400h160v-160H180v160Zm440 0h160v-160H620v160ZM180-180h160v-160H180v160Zm440 0h160v-160H620v160Z\"/>\n",
              "  </svg>\n",
              "    </button>\n",
              "\n",
              "  <style>\n",
              "    .colab-df-container {\n",
              "      display:flex;\n",
              "      gap: 12px;\n",
              "    }\n",
              "\n",
              "    .colab-df-convert {\n",
              "      background-color: #E8F0FE;\n",
              "      border: none;\n",
              "      border-radius: 50%;\n",
              "      cursor: pointer;\n",
              "      display: none;\n",
              "      fill: #1967D2;\n",
              "      height: 32px;\n",
              "      padding: 0 0 0 0;\n",
              "      width: 32px;\n",
              "    }\n",
              "\n",
              "    .colab-df-convert:hover {\n",
              "      background-color: #E2EBFA;\n",
              "      box-shadow: 0px 1px 2px rgba(60, 64, 67, 0.3), 0px 1px 3px 1px rgba(60, 64, 67, 0.15);\n",
              "      fill: #174EA6;\n",
              "    }\n",
              "\n",
              "    .colab-df-buttons div {\n",
              "      margin-bottom: 4px;\n",
              "    }\n",
              "\n",
              "    [theme=dark] .colab-df-convert {\n",
              "      background-color: #3B4455;\n",
              "      fill: #D2E3FC;\n",
              "    }\n",
              "\n",
              "    [theme=dark] .colab-df-convert:hover {\n",
              "      background-color: #434B5C;\n",
              "      box-shadow: 0px 1px 3px 1px rgba(0, 0, 0, 0.15);\n",
              "      filter: drop-shadow(0px 1px 2px rgba(0, 0, 0, 0.3));\n",
              "      fill: #FFFFFF;\n",
              "    }\n",
              "  </style>\n",
              "\n",
              "    <script>\n",
              "      const buttonEl =\n",
              "        document.querySelector('#df-649266d7-3272-4e32-8a9c-0dafef4d8fbc button.colab-df-convert');\n",
              "      buttonEl.style.display =\n",
              "        google.colab.kernel.accessAllowed ? 'block' : 'none';\n",
              "\n",
              "      async function convertToInteractive(key) {\n",
              "        const element = document.querySelector('#df-649266d7-3272-4e32-8a9c-0dafef4d8fbc');\n",
              "        const dataTable =\n",
              "          await google.colab.kernel.invokeFunction('convertToInteractive',\n",
              "                                                    [key], {});\n",
              "        if (!dataTable) return;\n",
              "\n",
              "        const docLinkHtml = 'Like what you see? Visit the ' +\n",
              "          '<a target=\"_blank\" href=https://colab.research.google.com/notebooks/data_table.ipynb>data table notebook</a>'\n",
              "          + ' to learn more about interactive tables.';\n",
              "        element.innerHTML = '';\n",
              "        dataTable['output_type'] = 'display_data';\n",
              "        await google.colab.output.renderOutput(dataTable, element);\n",
              "        const docLink = document.createElement('div');\n",
              "        docLink.innerHTML = docLinkHtml;\n",
              "        element.appendChild(docLink);\n",
              "      }\n",
              "    </script>\n",
              "  </div>\n",
              "\n",
              "\n",
              "<div id=\"df-200321a1-cfce-4359-9726-642f12ff6d6c\">\n",
              "  <button class=\"colab-df-quickchart\" onclick=\"quickchart('df-200321a1-cfce-4359-9726-642f12ff6d6c')\"\n",
              "            title=\"Suggest charts\"\n",
              "            style=\"display:none;\">\n",
              "\n",
              "<svg xmlns=\"http://www.w3.org/2000/svg\" height=\"24px\"viewBox=\"0 0 24 24\"\n",
              "     width=\"24px\">\n",
              "    <g>\n",
              "        <path d=\"M19 3H5c-1.1 0-2 .9-2 2v14c0 1.1.9 2 2 2h14c1.1 0 2-.9 2-2V5c0-1.1-.9-2-2-2zM9 17H7v-7h2v7zm4 0h-2V7h2v10zm4 0h-2v-4h2v4z\"/>\n",
              "    </g>\n",
              "</svg>\n",
              "  </button>\n",
              "\n",
              "<style>\n",
              "  .colab-df-quickchart {\n",
              "      --bg-color: #E8F0FE;\n",
              "      --fill-color: #1967D2;\n",
              "      --hover-bg-color: #E2EBFA;\n",
              "      --hover-fill-color: #174EA6;\n",
              "      --disabled-fill-color: #AAA;\n",
              "      --disabled-bg-color: #DDD;\n",
              "  }\n",
              "\n",
              "  [theme=dark] .colab-df-quickchart {\n",
              "      --bg-color: #3B4455;\n",
              "      --fill-color: #D2E3FC;\n",
              "      --hover-bg-color: #434B5C;\n",
              "      --hover-fill-color: #FFFFFF;\n",
              "      --disabled-bg-color: #3B4455;\n",
              "      --disabled-fill-color: #666;\n",
              "  }\n",
              "\n",
              "  .colab-df-quickchart {\n",
              "    background-color: var(--bg-color);\n",
              "    border: none;\n",
              "    border-radius: 50%;\n",
              "    cursor: pointer;\n",
              "    display: none;\n",
              "    fill: var(--fill-color);\n",
              "    height: 32px;\n",
              "    padding: 0;\n",
              "    width: 32px;\n",
              "  }\n",
              "\n",
              "  .colab-df-quickchart:hover {\n",
              "    background-color: var(--hover-bg-color);\n",
              "    box-shadow: 0 1px 2px rgba(60, 64, 67, 0.3), 0 1px 3px 1px rgba(60, 64, 67, 0.15);\n",
              "    fill: var(--button-hover-fill-color);\n",
              "  }\n",
              "\n",
              "  .colab-df-quickchart-complete:disabled,\n",
              "  .colab-df-quickchart-complete:disabled:hover {\n",
              "    background-color: var(--disabled-bg-color);\n",
              "    fill: var(--disabled-fill-color);\n",
              "    box-shadow: none;\n",
              "  }\n",
              "\n",
              "  .colab-df-spinner {\n",
              "    border: 2px solid var(--fill-color);\n",
              "    border-color: transparent;\n",
              "    border-bottom-color: var(--fill-color);\n",
              "    animation:\n",
              "      spin 1s steps(1) infinite;\n",
              "  }\n",
              "\n",
              "  @keyframes spin {\n",
              "    0% {\n",
              "      border-color: transparent;\n",
              "      border-bottom-color: var(--fill-color);\n",
              "      border-left-color: var(--fill-color);\n",
              "    }\n",
              "    20% {\n",
              "      border-color: transparent;\n",
              "      border-left-color: var(--fill-color);\n",
              "      border-top-color: var(--fill-color);\n",
              "    }\n",
              "    30% {\n",
              "      border-color: transparent;\n",
              "      border-left-color: var(--fill-color);\n",
              "      border-top-color: var(--fill-color);\n",
              "      border-right-color: var(--fill-color);\n",
              "    }\n",
              "    40% {\n",
              "      border-color: transparent;\n",
              "      border-right-color: var(--fill-color);\n",
              "      border-top-color: var(--fill-color);\n",
              "    }\n",
              "    60% {\n",
              "      border-color: transparent;\n",
              "      border-right-color: var(--fill-color);\n",
              "    }\n",
              "    80% {\n",
              "      border-color: transparent;\n",
              "      border-right-color: var(--fill-color);\n",
              "      border-bottom-color: var(--fill-color);\n",
              "    }\n",
              "    90% {\n",
              "      border-color: transparent;\n",
              "      border-bottom-color: var(--fill-color);\n",
              "    }\n",
              "  }\n",
              "</style>\n",
              "\n",
              "  <script>\n",
              "    async function quickchart(key) {\n",
              "      const quickchartButtonEl =\n",
              "        document.querySelector('#' + key + ' button');\n",
              "      quickchartButtonEl.disabled = true;  // To prevent multiple clicks.\n",
              "      quickchartButtonEl.classList.add('colab-df-spinner');\n",
              "      try {\n",
              "        const charts = await google.colab.kernel.invokeFunction(\n",
              "            'suggestCharts', [key], {});\n",
              "      } catch (error) {\n",
              "        console.error('Error during call to suggestCharts:', error);\n",
              "      }\n",
              "      quickchartButtonEl.classList.remove('colab-df-spinner');\n",
              "      quickchartButtonEl.classList.add('colab-df-quickchart-complete');\n",
              "    }\n",
              "    (() => {\n",
              "      let quickchartButtonEl =\n",
              "        document.querySelector('#df-200321a1-cfce-4359-9726-642f12ff6d6c button');\n",
              "      quickchartButtonEl.style.display =\n",
              "        google.colab.kernel.accessAllowed ? 'block' : 'none';\n",
              "    })();\n",
              "  </script>\n",
              "</div>\n",
              "\n",
              "    </div>\n",
              "  </div>\n"
            ],
            "text/plain": [
              "   patient_id     sex     ethnicity   race language marital_status      age  \\\n",
              "0           0    MALE  NON-HISPANIC  WHITE  ENGLISH        MARRIED  62.4614   \n",
              "1           1    MALE  NON-HISPANIC  WHITE  ENGLISH         SINGLE  65.3903   \n",
              "2           2  FEMALE  NON-HISPANIC  WHITE  ENGLISH         SINGLE  82.6667   \n",
              "3           3    MALE  NON-HISPANIC  WHITE  ENGLISH        MARRIED  62.1461   \n",
              "4           4  FEMALE  NON-HISPANIC  WHITE  ENGLISH        MARRIED  43.1582   \n",
              "\n",
              "       bmi admission_source       emergent  ... valve  coag  obese  wghtloss  \\\n",
              "0  24.6711     NON-TRANSFER      EMERGENCY  ...     0     0      1         0   \n",
              "1  30.5554         TRANSFER  NON-EMERGENCY  ...     0     0      0         1   \n",
              "2  40.5842     NON-TRANSFER  NON-EMERGENCY  ...     0     0      1         0   \n",
              "3  22.5506     NON-TRANSFER      EMERGENCY  ...     0     1      1         0   \n",
              "4  16.7270     NON-TRANSFER      EMERGENCY  ...     0     0      0         0   \n",
              "\n",
              "   lytes  anemia  alc_drug  depress      egfr  aki  \n",
              "0      0       0         0        1   82.1529    0  \n",
              "1      0       1         0        0  104.7827    1  \n",
              "2      0       1         0        0   85.4759    0  \n",
              "3      1       0         1        0   57.2850    0  \n",
              "4      1       0         1        0       NaN    1  \n",
              "\n",
              "[5 rows x 49 columns]"
            ]
          },
          "execution_count": 2,
          "metadata": {},
          "output_type": "execute_result"
        }
      ],
      "source": [
        "patient_df = pd.read_csv('https://www.dropbox.com/scl/fi/itlhhnrhbg9y9b3nnbd7t/data_unprocessed.csv?rlkey=labucmpbah1xu7alhmgrn4511&dl=1')\n",
        "patient_df.head()"
      ]
    },
    {
      "cell_type": "markdown",
      "id": "f35b27a8",
      "metadata": {
        "id": "f35b27a8"
      },
      "source": [
        "First, let's visually examine the distribution of patient age with the pandas [`hist()`](https://pandas.pydata.org/docs/reference/api/pandas.DataFrame.hist.html) function, which computes a simple histogram."
      ]
    },
    {
      "cell_type": "code",
      "execution_count": null,
      "id": "2cf817b3",
      "metadata": {
        "colab": {
          "base_uri": "https://localhost:8080/",
          "height": 430
        },
        "id": "2cf817b3",
        "outputId": "31ce0cec-7854-4c47-a2c4-e0c9fb70e7e2"
      },
      "outputs": [
        {
          "data": {
            "image/png": "[encoded data removed]",
            "text/plain": [
              "<Figure size 640x480 with 1 Axes>"
            ]
          },
          "metadata": {},
          "output_type": "display_data"
        }
      ],
      "source": [
        "hist = patient_df['age'].hist()"
      ]
    },
    {
      "cell_type": "markdown",
      "id": "28f61863",
      "metadata": {
        "id": "28f61863"
      },
      "source": [
        "We can modify many parameters of the `hist()` function to create a more informative figure."
      ]
    },
    {
      "cell_type": "code",
      "execution_count": null,
      "id": "c67d123b",
      "metadata": {
        "colab": {
          "base_uri": "https://localhost:8080/",
          "height": 489
        },
        "id": "c67d123b",
        "outputId": "6ea85ebd-50c0-43d0-8380-703c8cce5e66"
      },
      "outputs": [
        {
          "data": {
            "text/plain": [
              "<Axes: title={'center': 'Distribution of Patient Age'}, xlabel='Age', ylabel='Count'>"
            ]
          },
          "metadata": {},
          "output_type": "display_data"
        },
        {
          "data": {
            "image/png": "[encoded data removed]",
            "text/plain": [
              "<Figure size 640x480 with 1 Axes>"
            ]
          },
          "metadata": {},
          "output_type": "display_data"
        }
      ],
      "source": [
        "hist = patient_df['age'].hist(bins=72, grid=False)\n",
        "hist.set_title('Distribution of Patient Age')\n",
        "hist.set_ylabel('Count')\n",
        "hist.set_xlabel('Age')\n",
        "display(hist)"
      ]
    },
    {
      "cell_type": "markdown",
      "id": "44145fe4",
      "metadata": {
        "id": "44145fe4"
      },
      "source": [
        "#### **✏️ Exercise**\n",
        "\n",
        "1. Visualize the distribution of the body mass index (`bmi`) column. Feel free to first filter out unrealistic BMI values and to experiment with the `bins` parameter of the `hist()` function."
      ]
    },
    {
      "cell_type": "code",
      "execution_count": null,
      "id": "6ac17451",
      "metadata": {
        "id": "6ac17451"
      },
      "outputs": [],
      "source": [
        "patient_df['marital_status']\n"
      ]
    },
    {
      "cell_type": "markdown",
      "id": "6a622496",
      "metadata": {
        "id": "6a622496"
      },
      "source": [
        "For continuous variables, we can quickly create box plots (and effortlessly group by categorical groups) from DataFrame columns using the [`df.plot.box()`](https://pandas.pydata.org/docs/reference/api/pandas.DataFrame.plot.box.html#pandas.DataFrame.plot.box) function."
      ]
    },
    {
      "cell_type": "code",
      "execution_count": null,
      "id": "3a92ebb4",
      "metadata": {
        "id": "3a92ebb4",
        "outputId": "163e13df-c919-4d6b-848b-5b95d6e760dd"
      },
      "outputs": [
        {
          "data": {
            "text/plain": [
              "age    Axes(0.125,0.11;0.775x0.77)\n",
              "dtype: object"
            ]
          },
          "execution_count": 36,
          "metadata": {},
          "output_type": "execute_result"
        },
        {
          "data": {
            "image/png": "[encoded data removed]",
            "text/plain": [
              "<Figure size 640x480 with 1 Axes>"
            ]
          },
          "metadata": {},
          "output_type": "display_data"
        }
      ],
      "source": [
        "patient_df.plot.box(column='age', by='marital_status')"
      ]
    },
    {
      "cell_type": "markdown",
      "id": "bfa1e495",
      "metadata": {
        "id": "bfa1e495"
      },
      "source": [
        "#### **✏️ Exercise**\n",
        "1. Practice with the `hist()` and `box()` functions by exploring different columns in our DataFrame. Experiment with data filtering methods to further refine your figures.\n",
        "\n",
        "* **Hint:** Don't forget you can display a list of a DataFrame `df`'s columns with the command `print(df.columns)`."
      ]
    },
    {
      "cell_type": "code",
      "source": [
        "import pandas as pd\n",
        "import matplotlib.pyplot as plt\n",
        "\n",
        "df = pd.read_csv('https://www.dropbox.com/scl/fi/itlhhnrhbg9y9b3nnbd7t/data_unprocessed.csv?rlkey=labucmpbah1xu7alhmgrn4511&dl=1')\n",
        "\n",
        "\n",
        "df.loc[(df['age'] < 18) & (df['marital_status'] != 'SINGLE'), 'marital_status'] = \"MISSING\"\n",
        "\n",
        "\n",
        "plt.figure(figsize=(10,6))\n",
        "df.boxplot(column='age', by='marital_status', grid=False)\n",
        "plt.title(\"Age Distribution by Marital Status\")\n",
        "plt.suptitle(\"\")  # remove the automatic \"Boxplot grouped by\" title\n",
        "plt.xlabel(\"Marital Status\")\n",
        "plt.ylabel(\"Age\")\n",
        "plt.xticks(rotation=45)\n",
        "plt.show()"
      ],
      "metadata": {
        "id": "nfK7Z8f8Hkbg",
        "outputId": "7ec377e2-accd-4784-a818-722a5a4159d5",
        "colab": {
          "base_uri": "https://localhost:8080/",
          "height": 527
        }
      },
      "id": "nfK7Z8f8Hkbg",
      "execution_count": 14,
      "outputs": [
        {
          "output_type": "display_data",
          "data": {
            "text/plain": [
              "<Figure size 1000x600 with 0 Axes>"
            ]
          },
          "metadata": {}
        },
        {
          "output_type": "display_data",
          "data": {
            "text/plain": [
              "<Figure size 640x480 with 1 Axes>"
            ],
            "image/png": "[encoded data removed]"
          },
          "metadata": {}
        }
      ]
    }
  ],
  "metadata": {
    "colab": {
      "provenance": [],
      "include_colab_link": true
    },
    "kernelspec": {
      "display_name": "Python 3 (ipykernel)",
      "language": "python",
      "name": "python3"
    },
    "language_info": {
      "codemirror_mode": {
        "name": "ipython",
        "version": 3
      },
      "file_extension": ".py",
      "mimetype": "text/x-python",
      "name": "python",
      "nbconvert_exporter": "python",
      "pygments_lexer": "ipython3",
      "version": "3.11.5"
    },
    "vscode": {
      "interpreter": {
        "hash": "442d0c0e479a9a390f050bd5e20dc551a2c9cfe478296c9d47f476f59d719e25"
      }
    }
  },
  "nbformat": 4,
  "nbformat_minor": 5
}